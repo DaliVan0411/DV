{
  "nbformat": 4,
  "nbformat_minor": 0,
  "metadata": {
    "colab": {
      "name": "코랩 9",
      "provenance": [],
      "authorship_tag": "ABX9TyOQKlWLbelauBlWwfpSN48x",
      "include_colab_link": true
    },
    "kernelspec": {
      "name": "python3",
      "display_name": "Python 3"
    },
    "language_info": {
      "name": "python"
    }
  },
  "cells": [
    {
      "cell_type": "markdown",
      "metadata": {
        "id": "view-in-github",
        "colab_type": "text"
      },
      "source": [
        "<a href=\"https://colab.research.google.com/github/DaliVan0411/DV/blob/main/%EC%BD%94%EB%9E%A9_9.ipynb\" target=\"_parent\"><img src=\"https://colab.research.google.com/assets/colab-badge.svg\" alt=\"Open In Colab\"/></a>"
      ]
    },
    {
      "cell_type": "code",
      "execution_count": 1,
      "metadata": {
        "colab": {
          "base_uri": "https://localhost:8080/"
        },
        "id": "ZWikzAa43uNm",
        "outputId": "1d55deb2-2693-4ebe-ea19-e7cd6c96c56d"
      },
      "outputs": [
        {
          "output_type": "stream",
          "name": "stdout",
          "text": [
            "안녕하세요\n"
          ]
        }
      ],
      "source": [
        "Hello='안녕하세요'\n",
        "print(Hello)"
      ]
    },
    {
      "cell_type": "markdown",
      "source": [
        "\"\" , ''' ''' , \"\"\" \"\"\" 도 가능"
      ],
      "metadata": {
        "id": "ZUM_I11U42ln"
      }
    },
    {
      "cell_type": "code",
      "source": [
        "hello = '''Hello, world!\n",
        "안녕하세요.\n",
        "Python입니다.'''\n",
        "print(hello)"
      ],
      "metadata": {
        "colab": {
          "base_uri": "https://localhost:8080/"
        },
        "id": "YWnB6DO94tbO",
        "outputId": "cd8331e4-f301-41d3-b153-6d76857a2358"
      },
      "execution_count": 2,
      "outputs": [
        {
          "output_type": "stream",
          "name": "stdout",
          "text": [
            "Hello, world!\n",
            "안녕하세요.\n",
            "Python입니다.\n"
          ]
        }
      ]
    },
    {
      "cell_type": "markdown",
      "source": [
        "따옴표 혼합해서 사용하기"
      ],
      "metadata": {
        "id": "BehDKSEc5awL"
      }
    },
    {
      "cell_type": "code",
      "source": [
        "s = \"Python isn't difficult\"\n",
        "print(s)"
      ],
      "metadata": {
        "colab": {
          "base_uri": "https://localhost:8080/"
        },
        "id": "xEhqUpgb4t1R",
        "outputId": "363339e9-456d-40bf-a6f1-57bc1b5c41fe"
      },
      "execution_count": 3,
      "outputs": [
        {
          "output_type": "stream",
          "name": "stdout",
          "text": [
            "Python isn't difficult\n"
          ]
        }
      ]
    },
    {
      "cell_type": "code",
      "source": [
        "s = 'He said \"Python is easy\"'\n",
        "print(s)"
      ],
      "metadata": {
        "colab": {
          "base_uri": "https://localhost:8080/"
        },
        "id": "4n1tHfaA5qEk",
        "outputId": "7ae464ca-1f35-4b9e-aa34-79bcdf98c169"
      },
      "execution_count": 4,
      "outputs": [
        {
          "output_type": "stream",
          "name": "stdout",
          "text": [
            "He said \"Python is easy\"\n"
          ]
        }
      ]
    }
  ]
}