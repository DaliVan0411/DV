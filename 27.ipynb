{
  "nbformat": 4,
  "nbformat_minor": 0,
  "metadata": {
    "colab": {
      "name": "27",
      "provenance": [],
      "collapsed_sections": [],
      "authorship_tag": "ABX9TyNhxy9qdyaJLpOo+Oor7Mu+",
      "include_colab_link": true
    },
    "kernelspec": {
      "name": "python3",
      "display_name": "Python 3"
    },
    "language_info": {
      "name": "python"
    }
  },
  "cells": [
    {
      "cell_type": "markdown",
      "metadata": {
        "id": "view-in-github",
        "colab_type": "text"
      },
      "source": [
        "<a href=\"https://colab.research.google.com/github/DaliVan0411/DV/blob/main/27.ipynb\" target=\"_parent\"><img src=\"https://colab.research.google.com/assets/colab-badge.svg\" alt=\"Open In Colab\"/></a>"
      ]
    },
    {
      "cell_type": "code",
      "execution_count": 1,
      "metadata": {
        "id": "Tt6t06mRki_y"
      },
      "outputs": [],
      "source": [
        "file = open('hello.txt', 'w')\n",
        "file.write('Hello, world!')\n",
        "file.close()"
      ]
    },
    {
      "cell_type": "code",
      "source": [
        "file = open('hello.txt', 'r')\n",
        "s = file.read()\n",
        "print(s)\n",
        "file.close()"
      ],
      "metadata": {
        "colab": {
          "base_uri": "https://localhost:8080/"
        },
        "id": "mw0EVfwQkmdF",
        "outputId": "b515de5f-b352-4e3a-e99a-37d2e1cda564"
      },
      "execution_count": 3,
      "outputs": [
        {
          "output_type": "stream",
          "name": "stdout",
          "text": [
            "Hello, world!\n"
          ]
        }
      ]
    },
    {
      "cell_type": "code",
      "source": [
        "with open('hello.txt', 'r') as file:\n",
        "  s = file.read()\n",
        "  print(s)"
      ],
      "metadata": {
        "colab": {
          "base_uri": "https://localhost:8080/"
        },
        "id": "VextmfkWYC9W",
        "outputId": "09896e29-359b-46b7-c7c2-6a2e46018698"
      },
      "execution_count": 4,
      "outputs": [
        {
          "output_type": "stream",
          "name": "stdout",
          "text": [
            "Hello, world!\n"
          ]
        }
      ]
    },
    {
      "cell_type": "code",
      "source": [
        "with open('hello.txt', 'w') as file:\n",
        "  for i in range(3):\n",
        "    file.write('Hello, world! {0}\\n'.format(i))"
      ],
      "metadata": {
        "id": "StfZPGODYC6i"
      },
      "execution_count": 6,
      "outputs": []
    },
    {
      "cell_type": "code",
      "source": [
        "lines = ['안녕하세요.\\n', '파이썬\\n', '코딩 도장입니다.\\n']\n",
        "with open('hello.txt', 'w') as file:\n",
        "  file.writelines(lines)"
      ],
      "metadata": {
        "id": "EKBHiEC7YC4B"
      },
      "execution_count": 7,
      "outputs": []
    },
    {
      "cell_type": "code",
      "source": [
        "with open('hello.txt', 'r') as file:\n",
        "  lines = file.readlines()\n",
        "  print(lines)"
      ],
      "metadata": {
        "colab": {
          "base_uri": "https://localhost:8080/"
        },
        "id": "ZN1H4RPXYC15",
        "outputId": "5e46d923-ed58-4ed0-f526-4b49ddc22f0b"
      },
      "execution_count": 8,
      "outputs": [
        {
          "output_type": "stream",
          "name": "stdout",
          "text": [
            "['안녕하세요.\\n', '파이썬\\n', '코딩 도장입니다.\\n']\n"
          ]
        }
      ]
    },
    {
      "cell_type": "code",
      "source": [
        "with open('hello.txt', 'r') as file:\n",
        "  line = None\n",
        "  while line != '':\n",
        "    line = file.readline()\n",
        "    print(line.strip('\\n'))"
      ],
      "metadata": {
        "colab": {
          "base_uri": "https://localhost:8080/"
        },
        "id": "UJYBiBlwkma4",
        "outputId": "37884cc3-dbdf-4259-9548-c3437ab073d4"
      },
      "execution_count": 9,
      "outputs": [
        {
          "output_type": "stream",
          "name": "stdout",
          "text": [
            "안녕하세요.\n",
            "파이썬\n",
            "코딩 도장입니다.\n",
            "\n"
          ]
        }
      ]
    },
    {
      "cell_type": "code",
      "source": [
        "with open('hello.txt', 'r') as file:\n",
        "  for line in file:\n",
        "    print(line.strip('\\n'))"
      ],
      "metadata": {
        "colab": {
          "base_uri": "https://localhost:8080/"
        },
        "id": "yGq9DnmFkmY5",
        "outputId": "2ad17cd8-80e0-4187-ac03-2d0a960b615a"
      },
      "execution_count": 10,
      "outputs": [
        {
          "output_type": "stream",
          "name": "stdout",
          "text": [
            "안녕하세요.\n",
            "파이썬\n",
            "코딩 도장입니다.\n"
          ]
        }
      ]
    },
    {
      "cell_type": "code",
      "source": [
        "import pickle\n",
        "\n",
        "name = 'james'\n",
        "age = '17'\n",
        "address = '서울시 서초구 반포동'\n",
        "scores = {'korean':90, 'english':95, 'mathematics': 85, 'science': 82}\n",
        "\n",
        "with open('james.p', 'wb') as file:\n",
        "  pickle.dump(name, file)\n",
        "  pickle.dump(age, file)\n",
        "  pickle.dump(address, file)\n",
        "  pickle.dump(scores, file)"
      ],
      "metadata": {
        "id": "pVkECsAjkmW_"
      },
      "execution_count": 11,
      "outputs": []
    },
    {
      "cell_type": "code",
      "source": [
        "import pickle\n",
        "\n",
        "with open('james.p', 'rb') as file:\n",
        "  name = pickle.load(file)\n",
        "  age = pickle.load(file)\n",
        "  address = pickle.load(file)\n",
        "  scores = pickle.load(file)\n",
        "  print(name)\n",
        "  print(age)\n",
        "  print(address)\n",
        "  print(scores)"
      ],
      "metadata": {
        "colab": {
          "base_uri": "https://localhost:8080/"
        },
        "id": "hFk-HjoueLhV",
        "outputId": "0ec260b0-6250-4ccc-ff3d-0c4db41542e3"
      },
      "execution_count": 12,
      "outputs": [
        {
          "output_type": "stream",
          "name": "stdout",
          "text": [
            "james\n",
            "17\n",
            "서울시 서초구 반포동\n",
            "{'korean': 90, 'english': 95, 'mathematics': 85, 'science': 82}\n"
          ]
        }
      ]
    },
    {
      "cell_type": "code",
      "source": [
        "file = open('words.txt', 'w')\n",
        "file.write('Fortunately, however, for the reputation of Asteroid B-612, a Turkish dictator made a law that his subjects, under pain of death, should change to European costume. So in 1920 the astronomer gave his demonstration all over again, dressed with impressive style and elegance. And this time everybody accepted his report.')\n",
        "file.close()"
      ],
      "metadata": {
        "id": "HhTTd_DotQqm"
      },
      "execution_count": 16,
      "outputs": []
    },
    {
      "cell_type": "code",
      "source": [
        "with open('words.txt', 'r') as file:\n",
        "  for line in file:\n",
        "    words = line.split( )\n",
        "  for word in words:\n",
        "    if 'c' in word:\n",
        "      print(word.strip(',.'))"
      ],
      "metadata": {
        "colab": {
          "base_uri": "https://localhost:8080/"
        },
        "id": "3XKC9g3-eLfJ",
        "outputId": "f90e1276-172e-4b2e-e4f9-9c7070d49b49"
      },
      "execution_count": 21,
      "outputs": [
        {
          "output_type": "stream",
          "name": "stdout",
          "text": [
            "dictator\n",
            "subjects\n",
            "change\n",
            "costume\n",
            "elegance\n",
            "accepted\n"
          ]
        }
      ]
    }
  ]
}