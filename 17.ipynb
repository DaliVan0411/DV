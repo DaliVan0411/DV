{
  "nbformat": 4,
  "nbformat_minor": 0,
  "metadata": {
    "colab": {
      "name": "17",
      "provenance": [],
      "collapsed_sections": [],
      "authorship_tag": "ABX9TyNapwVBAfwWT/9uWEIfEJK3",
      "include_colab_link": true
    },
    "kernelspec": {
      "name": "python3",
      "display_name": "Python 3"
    },
    "language_info": {
      "name": "python"
    }
  },
  "cells": [
    {
      "cell_type": "markdown",
      "metadata": {
        "id": "view-in-github",
        "colab_type": "text"
      },
      "source": [
        "<a href=\"https://colab.research.google.com/github/DaliVan0411/DV/blob/main/17.ipynb\" target=\"_parent\"><img src=\"https://colab.research.google.com/assets/colab-badge.svg\" alt=\"Open In Colab\"/></a>"
      ]
    },
    {
      "cell_type": "code",
      "execution_count": null,
      "metadata": {
        "colab": {
          "base_uri": "https://localhost:8080/"
        },
        "id": "mlAqg1Bkq2FM",
        "outputId": "b3674f05-4cab-4fdd-a899-2d8d7cb72c83"
      },
      "outputs": [
        {
          "output_type": "stream",
          "name": "stdout",
          "text": [
            "Hello, World!\n",
            "Hello, World!\n",
            "Hello, World!\n",
            "Hello, World!\n",
            "Hello, World!\n",
            "Hello, World!\n",
            "Hello, World!\n",
            "Hello, World!\n",
            "Hello, World!\n",
            "Hello, World!\n",
            "Hello, World!\n",
            "Hello, World!\n",
            "Hello, World!\n",
            "Hello, World!\n",
            "Hello, World!\n",
            "Hello, World!\n",
            "Hello, World!\n",
            "Hello, World!\n",
            "Hello, World!\n",
            "Hello, World!\n",
            "Hello, World!\n",
            "Hello, World!\n",
            "Hello, World!\n",
            "Hello, World!\n",
            "Hello, World!\n",
            "Hello, World!\n",
            "Hello, World!\n",
            "Hello, World!\n",
            "Hello, World!\n",
            "Hello, World!\n",
            "Hello, World!\n",
            "Hello, World!\n",
            "Hello, World!\n",
            "Hello, World!\n",
            "Hello, World!\n",
            "Hello, World!\n",
            "Hello, World!\n",
            "Hello, World!\n",
            "Hello, World!\n",
            "Hello, World!\n",
            "Hello, World!\n",
            "Hello, World!\n",
            "Hello, World!\n",
            "Hello, World!\n",
            "Hello, World!\n",
            "Hello, World!\n",
            "Hello, World!\n",
            "Hello, World!\n",
            "Hello, World!\n",
            "Hello, World!\n",
            "Hello, World!\n",
            "Hello, World!\n",
            "Hello, World!\n",
            "Hello, World!\n",
            "Hello, World!\n",
            "Hello, World!\n",
            "Hello, World!\n",
            "Hello, World!\n",
            "Hello, World!\n",
            "Hello, World!\n",
            "Hello, World!\n",
            "Hello, World!\n",
            "Hello, World!\n",
            "Hello, World!\n",
            "Hello, World!\n",
            "Hello, World!\n",
            "Hello, World!\n",
            "Hello, World!\n",
            "Hello, World!\n",
            "Hello, World!\n",
            "Hello, World!\n",
            "Hello, World!\n",
            "Hello, World!\n",
            "Hello, World!\n",
            "Hello, World!\n",
            "Hello, World!\n",
            "Hello, World!\n",
            "Hello, World!\n",
            "Hello, World!\n",
            "Hello, World!\n",
            "Hello, World!\n",
            "Hello, World!\n",
            "Hello, World!\n",
            "Hello, World!\n",
            "Hello, World!\n",
            "Hello, World!\n",
            "Hello, World!\n",
            "Hello, World!\n",
            "Hello, World!\n",
            "Hello, World!\n",
            "Hello, World!\n",
            "Hello, World!\n",
            "Hello, World!\n",
            "Hello, World!\n",
            "Hello, World!\n",
            "Hello, World!\n",
            "Hello, World!\n",
            "Hello, World!\n",
            "Hello, World!\n",
            "Hello, World!\n"
          ]
        }
      ],
      "source": [
        "i=0\n",
        "while i <100:\n",
        "    print('Hello, World!')\n",
        "    i+=1"
      ]
    },
    {
      "cell_type": "code",
      "source": [
        "i=0\n",
        "while i <= 100:\n",
        "    print('Hello, World!',i)\n",
        "    i+=1"
      ],
      "metadata": {
        "id": "g6PHq9vPreWp",
        "colab": {
          "base_uri": "https://localhost:8080/"
        },
        "outputId": "ea0f5a86-a230-42ee-99ed-6bea08648ee1"
      },
      "execution_count": 1,
      "outputs": [
        {
          "output_type": "stream",
          "name": "stdout",
          "text": [
            "Hello, World! 0\n",
            "Hello, World! 1\n",
            "Hello, World! 2\n",
            "Hello, World! 3\n",
            "Hello, World! 4\n",
            "Hello, World! 5\n",
            "Hello, World! 6\n",
            "Hello, World! 7\n",
            "Hello, World! 8\n",
            "Hello, World! 9\n",
            "Hello, World! 10\n",
            "Hello, World! 11\n",
            "Hello, World! 12\n",
            "Hello, World! 13\n",
            "Hello, World! 14\n",
            "Hello, World! 15\n",
            "Hello, World! 16\n",
            "Hello, World! 17\n",
            "Hello, World! 18\n",
            "Hello, World! 19\n",
            "Hello, World! 20\n",
            "Hello, World! 21\n",
            "Hello, World! 22\n",
            "Hello, World! 23\n",
            "Hello, World! 24\n",
            "Hello, World! 25\n",
            "Hello, World! 26\n",
            "Hello, World! 27\n",
            "Hello, World! 28\n",
            "Hello, World! 29\n",
            "Hello, World! 30\n",
            "Hello, World! 31\n",
            "Hello, World! 32\n",
            "Hello, World! 33\n",
            "Hello, World! 34\n",
            "Hello, World! 35\n",
            "Hello, World! 36\n",
            "Hello, World! 37\n",
            "Hello, World! 38\n",
            "Hello, World! 39\n",
            "Hello, World! 40\n",
            "Hello, World! 41\n",
            "Hello, World! 42\n",
            "Hello, World! 43\n",
            "Hello, World! 44\n",
            "Hello, World! 45\n",
            "Hello, World! 46\n",
            "Hello, World! 47\n",
            "Hello, World! 48\n",
            "Hello, World! 49\n",
            "Hello, World! 50\n",
            "Hello, World! 51\n",
            "Hello, World! 52\n",
            "Hello, World! 53\n",
            "Hello, World! 54\n",
            "Hello, World! 55\n",
            "Hello, World! 56\n",
            "Hello, World! 57\n",
            "Hello, World! 58\n",
            "Hello, World! 59\n",
            "Hello, World! 60\n",
            "Hello, World! 61\n",
            "Hello, World! 62\n",
            "Hello, World! 63\n",
            "Hello, World! 64\n",
            "Hello, World! 65\n",
            "Hello, World! 66\n",
            "Hello, World! 67\n",
            "Hello, World! 68\n",
            "Hello, World! 69\n",
            "Hello, World! 70\n",
            "Hello, World! 71\n",
            "Hello, World! 72\n",
            "Hello, World! 73\n",
            "Hello, World! 74\n",
            "Hello, World! 75\n",
            "Hello, World! 76\n",
            "Hello, World! 77\n",
            "Hello, World! 78\n",
            "Hello, World! 79\n",
            "Hello, World! 80\n",
            "Hello, World! 81\n",
            "Hello, World! 82\n",
            "Hello, World! 83\n",
            "Hello, World! 84\n",
            "Hello, World! 85\n",
            "Hello, World! 86\n",
            "Hello, World! 87\n",
            "Hello, World! 88\n",
            "Hello, World! 89\n",
            "Hello, World! 90\n",
            "Hello, World! 91\n",
            "Hello, World! 92\n",
            "Hello, World! 93\n",
            "Hello, World! 94\n",
            "Hello, World! 95\n",
            "Hello, World! 96\n",
            "Hello, World! 97\n",
            "Hello, World! 98\n",
            "Hello, World! 99\n",
            "Hello, World! 100\n"
          ]
        }
      ]
    },
    {
      "cell_type": "code",
      "source": [
        "i = 100\n",
        "while i > 0:\n",
        "  print('Hello, world!', i)\n",
        "  i -= 1"
      ],
      "metadata": {
        "id": "GRs1tPNUrdwr",
        "colab": {
          "base_uri": "https://localhost:8080/"
        },
        "outputId": "7663f025-f20f-47fb-ecf3-5dd9b640ec4b"
      },
      "execution_count": 2,
      "outputs": [
        {
          "output_type": "stream",
          "name": "stdout",
          "text": [
            "Hello, world! 100\n",
            "Hello, world! 99\n",
            "Hello, world! 98\n",
            "Hello, world! 97\n",
            "Hello, world! 96\n",
            "Hello, world! 95\n",
            "Hello, world! 94\n",
            "Hello, world! 93\n",
            "Hello, world! 92\n",
            "Hello, world! 91\n",
            "Hello, world! 90\n",
            "Hello, world! 89\n",
            "Hello, world! 88\n",
            "Hello, world! 87\n",
            "Hello, world! 86\n",
            "Hello, world! 85\n",
            "Hello, world! 84\n",
            "Hello, world! 83\n",
            "Hello, world! 82\n",
            "Hello, world! 81\n",
            "Hello, world! 80\n",
            "Hello, world! 79\n",
            "Hello, world! 78\n",
            "Hello, world! 77\n",
            "Hello, world! 76\n",
            "Hello, world! 75\n",
            "Hello, world! 74\n",
            "Hello, world! 73\n",
            "Hello, world! 72\n",
            "Hello, world! 71\n",
            "Hello, world! 70\n",
            "Hello, world! 69\n",
            "Hello, world! 68\n",
            "Hello, world! 67\n",
            "Hello, world! 66\n",
            "Hello, world! 65\n",
            "Hello, world! 64\n",
            "Hello, world! 63\n",
            "Hello, world! 62\n",
            "Hello, world! 61\n",
            "Hello, world! 60\n",
            "Hello, world! 59\n",
            "Hello, world! 58\n",
            "Hello, world! 57\n",
            "Hello, world! 56\n",
            "Hello, world! 55\n",
            "Hello, world! 54\n",
            "Hello, world! 53\n",
            "Hello, world! 52\n",
            "Hello, world! 51\n",
            "Hello, world! 50\n",
            "Hello, world! 49\n",
            "Hello, world! 48\n",
            "Hello, world! 47\n",
            "Hello, world! 46\n",
            "Hello, world! 45\n",
            "Hello, world! 44\n",
            "Hello, world! 43\n",
            "Hello, world! 42\n",
            "Hello, world! 41\n",
            "Hello, world! 40\n",
            "Hello, world! 39\n",
            "Hello, world! 38\n",
            "Hello, world! 37\n",
            "Hello, world! 36\n",
            "Hello, world! 35\n",
            "Hello, world! 34\n",
            "Hello, world! 33\n",
            "Hello, world! 32\n",
            "Hello, world! 31\n",
            "Hello, world! 30\n",
            "Hello, world! 29\n",
            "Hello, world! 28\n",
            "Hello, world! 27\n",
            "Hello, world! 26\n",
            "Hello, world! 25\n",
            "Hello, world! 24\n",
            "Hello, world! 23\n",
            "Hello, world! 22\n",
            "Hello, world! 21\n",
            "Hello, world! 20\n",
            "Hello, world! 19\n",
            "Hello, world! 18\n",
            "Hello, world! 17\n",
            "Hello, world! 16\n",
            "Hello, world! 15\n",
            "Hello, world! 14\n",
            "Hello, world! 13\n",
            "Hello, world! 12\n",
            "Hello, world! 11\n",
            "Hello, world! 10\n",
            "Hello, world! 9\n",
            "Hello, world! 8\n",
            "Hello, world! 7\n",
            "Hello, world! 6\n",
            "Hello, world! 5\n",
            "Hello, world! 4\n",
            "Hello, world! 3\n",
            "Hello, world! 2\n",
            "Hello, world! 1\n"
          ]
        }
      ]
    },
    {
      "cell_type": "code",
      "source": [
        "count = int(input('반복할 횟수를 입력하세요: '))\n",
        "i = 0\n",
        "while i < count:\n",
        "  print('Hello, world!', i)\n",
        "  i += 1"
      ],
      "metadata": {
        "colab": {
          "base_uri": "https://localhost:8080/"
        },
        "id": "LkXNVPBMrBg8",
        "outputId": "5e1d63f6-0462-45a5-bc7a-79e9ce2d22f9"
      },
      "execution_count": 3,
      "outputs": [
        {
          "output_type": "stream",
          "name": "stdout",
          "text": [
            "반복할 횟수를 입력하세요: 3\n",
            "Hello, world! 0\n",
            "Hello, world! 1\n",
            "Hello, world! 2\n"
          ]
        }
      ]
    },
    {
      "cell_type": "code",
      "source": [
        "count = int(input('반복할 횟수를 입력하세요: '))\n",
        " \n",
        "while count > 0:\n",
        "  print('Hello, world!', count)\n",
        "  count -= 1"
      ],
      "metadata": {
        "colab": {
          "base_uri": "https://localhost:8080/"
        },
        "id": "m17fVZovrBXz",
        "outputId": "74d38b46-7769-4cb9-8215-97fa90d1d05a"
      },
      "execution_count": 4,
      "outputs": [
        {
          "output_type": "stream",
          "name": "stdout",
          "text": [
            "반복할 횟수를 입력하세요: 3\n",
            "Hello, world! 3\n",
            "Hello, world! 2\n",
            "Hello, world! 1\n"
          ]
        }
      ]
    },
    {
      "cell_type": "code",
      "source": [
        "import random\n",
        "random.randint(1,6)"
      ],
      "metadata": {
        "colab": {
          "base_uri": "https://localhost:8080/"
        },
        "id": "cQZRv3fHrBLv",
        "outputId": "a531eca4-5afa-469f-ebe8-990c63bb1a13"
      },
      "execution_count": 10,
      "outputs": [
        {
          "output_type": "execute_result",
          "data": {
            "text/plain": [
              "2"
            ]
          },
          "metadata": {},
          "execution_count": 10
        }
      ]
    },
    {
      "cell_type": "code",
      "source": [
        "import random\n",
        "i = 0\n",
        "while i != 3:\n",
        "  i = random.randint(1,6)\n",
        "  print(i)"
      ],
      "metadata": {
        "colab": {
          "base_uri": "https://localhost:8080/"
        },
        "id": "ze0_ify2sDyE",
        "outputId": "6ed51c7c-2498-4ae6-e3d5-86f57e6999e6"
      },
      "execution_count": 11,
      "outputs": [
        {
          "output_type": "stream",
          "name": "stdout",
          "text": [
            "4\n",
            "6\n",
            "2\n",
            "2\n",
            "2\n",
            "4\n",
            "2\n",
            "5\n",
            "3\n"
          ]
        }
      ]
    },
    {
      "cell_type": "code",
      "source": [
        "i = 10\n",
        " \n",
        "while i < 19:\n",
        "    print(i, end=' ')\n",
        "    i += 2"
      ],
      "metadata": {
        "colab": {
          "base_uri": "https://localhost:8080/"
        },
        "id": "VPJ_5PSssDuo",
        "outputId": "06308a68-c149-4a81-b9a5-b714bc39d244"
      },
      "execution_count": 12,
      "outputs": [
        {
          "output_type": "stream",
          "name": "stdout",
          "text": [
            "10 12 14 16 18 "
          ]
        }
      ]
    },
    {
      "cell_type": "code",
      "source": [
        "x=int(input())\n",
        "a=1350\n",
        "while x >= a:\n",
        "  x -= a\n",
        "  print(x)"
      ],
      "metadata": {
        "colab": {
          "base_uri": "https://localhost:8080/"
        },
        "id": "exY_XkfnsDsf",
        "outputId": "04dd9731-871d-42b7-b847-233d3c2b763a"
      },
      "execution_count": 16,
      "outputs": [
        {
          "output_type": "stream",
          "name": "stdout",
          "text": [
            "10000\n",
            "8650\n",
            "7300\n",
            "5950\n",
            "4600\n",
            "3250\n",
            "1900\n",
            "550\n"
          ]
        }
      ]
    }
  ]
}