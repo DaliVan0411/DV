{
  "nbformat": 4,
  "nbformat_minor": 0,
  "metadata": {
    "colab": {
      "name": "19",
      "provenance": [],
      "collapsed_sections": [],
      "authorship_tag": "ABX9TyNlFpd/k9GRdd38FfjWKa5P",
      "include_colab_link": true
    },
    "kernelspec": {
      "name": "python3",
      "display_name": "Python 3"
    },
    "language_info": {
      "name": "python"
    }
  },
  "cells": [
    {
      "cell_type": "markdown",
      "metadata": {
        "id": "view-in-github",
        "colab_type": "text"
      },
      "source": [
        "<a href=\"https://colab.research.google.com/github/DaliVan0411/DV/blob/main/19.ipynb\" target=\"_parent\"><img src=\"https://colab.research.google.com/assets/colab-badge.svg\" alt=\"Open In Colab\"/></a>"
      ]
    },
    {
      "cell_type": "code",
      "execution_count": 1,
      "metadata": {
        "colab": {
          "base_uri": "https://localhost:8080/"
        },
        "id": "YwDL_Y5IC0Lf",
        "outputId": "32e24588-4146-4fe6-bbaf-496990da8ebc"
      },
      "outputs": [
        {
          "output_type": "stream",
          "name": "stdout",
          "text": [
            "j:0 j:1 j:2 j:3 j:4 i:0\\n\n",
            "j:0 j:1 j:2 j:3 j:4 i:1\\n\n",
            "j:0 j:1 j:2 j:3 j:4 i:2\\n\n",
            "j:0 j:1 j:2 j:3 j:4 i:3\\n\n",
            "j:0 j:1 j:2 j:3 j:4 i:4\\n\n"
          ]
        }
      ],
      "source": [
        "for i in range(5):\n",
        "    for j in range(5):\n",
        "        print('j:', j, sep='', end=' ')\n",
        "    print('i:', i, '\\\\n', sep='') "
      ]
    },
    {
      "cell_type": "code",
      "source": [
        "for i in range(5):           \n",
        "    for j in range(5):        \n",
        "        print('*', end='')   \n",
        "    print()"
      ],
      "metadata": {
        "colab": {
          "base_uri": "https://localhost:8080/"
        },
        "id": "722Wei60C2ne",
        "outputId": "a256e384-2946-4021-c051-9a731148fbdc"
      },
      "execution_count": 2,
      "outputs": [
        {
          "output_type": "stream",
          "name": "stdout",
          "text": [
            "*****\n",
            "*****\n",
            "*****\n",
            "*****\n",
            "*****\n"
          ]
        }
      ]
    },
    {
      "cell_type": "code",
      "source": [
        "for i in range(3):           \n",
        "    for j in range(7):       \n",
        "        print('*', end='')    \n",
        "    print()"
      ],
      "metadata": {
        "colab": {
          "base_uri": "https://localhost:8080/"
        },
        "id": "fWsQDFl0DVCv",
        "outputId": "6770779d-c405-4ad9-e841-4cb237819927"
      },
      "execution_count": 3,
      "outputs": [
        {
          "output_type": "stream",
          "name": "stdout",
          "text": [
            "*******\n",
            "*******\n",
            "*******\n"
          ]
        }
      ]
    },
    {
      "cell_type": "code",
      "source": [
        "for i in range(5):      \n",
        "    for j in range(5):    \n",
        "        if j <= i:                \n",
        "            print('*', end='')   \n",
        "    print()"
      ],
      "metadata": {
        "colab": {
          "base_uri": "https://localhost:8080/"
        },
        "id": "jEPT61dODZ1M",
        "outputId": "55997306-9e53-4113-d9d4-51304a19759a"
      },
      "execution_count": 4,
      "outputs": [
        {
          "output_type": "stream",
          "name": "stdout",
          "text": [
            "*\n",
            "**\n",
            "***\n",
            "****\n",
            "*****\n"
          ]
        }
      ]
    },
    {
      "cell_type": "code",
      "source": [
        "for i in range(5):        \n",
        "    for j in range(5):    \n",
        "        if j == i:                \n",
        "            print('*', end='')\n",
        "    print() "
      ],
      "metadata": {
        "colab": {
          "base_uri": "https://localhost:8080/"
        },
        "id": "NZWPgoGxDZxs",
        "outputId": "5009551d-9f83-4ef8-d792-4faa37d7e776"
      },
      "execution_count": 5,
      "outputs": [
        {
          "output_type": "stream",
          "name": "stdout",
          "text": [
            "*\n",
            "*\n",
            "*\n",
            "*\n",
            "*\n"
          ]
        }
      ]
    },
    {
      "cell_type": "code",
      "source": [
        "for i in range(5):        \n",
        "    for j in range(5):    \n",
        "        if j == i:                \n",
        "            print('*', end='')    \n",
        "        else:                     \n",
        "            print(' ', end='')    \n",
        "    print()  "
      ],
      "metadata": {
        "colab": {
          "base_uri": "https://localhost:8080/"
        },
        "id": "CM3uPyFCDZvh",
        "outputId": "0fa3ae13-41dd-49cc-b2fd-775cfa7d3239"
      },
      "execution_count": 6,
      "outputs": [
        {
          "output_type": "stream",
          "name": "stdout",
          "text": [
            "*    \n",
            " *   \n",
            "  *  \n",
            "   * \n",
            "    *\n"
          ]
        }
      ]
    },
    {
      "cell_type": "code",
      "source": [
        "for i in range(5):\n",
        "    for j in range(5):\n",
        "        if         :\n",
        "            print('*', end='')\n",
        "    print()"
      ],
      "metadata": {
        "colab": {
          "base_uri": "https://localhost:8080/",
          "height": 136
        },
        "id": "vMjjqH9qDU_Y",
        "outputId": "5a0733f1-4081-4447-feef-60027d9173ec"
      },
      "execution_count": 7,
      "outputs": [
        {
          "output_type": "error",
          "ename": "SyntaxError",
          "evalue": "ignored",
          "traceback": [
            "\u001b[0;36m  File \u001b[0;32m\"<ipython-input-7-4ce28919bc38>\"\u001b[0;36m, line \u001b[0;32m3\u001b[0m\n\u001b[0;31m    if         :\u001b[0m\n\u001b[0m               ^\u001b[0m\n\u001b[0;31mSyntaxError\u001b[0m\u001b[0;31m:\u001b[0m invalid syntax\n"
          ]
        }
      ]
    },
    {
      "cell_type": "code",
      "source": [
        "a = int(input())\n",
        "for i in range(a):\n",
        "  for j in range(a-i-1):\n",
        "    print(' ',end='')\n",
        "  for j in range(2*i+1):\n",
        "    print('*',end='')\n",
        "  print()"
      ],
      "metadata": {
        "colab": {
          "base_uri": "https://localhost:8080/"
        },
        "id": "t-vmL3BXDU8o",
        "outputId": "e8abe05c-3fbc-4136-8d96-08f03040f115"
      },
      "execution_count": 8,
      "outputs": [
        {
          "output_type": "stream",
          "name": "stdout",
          "text": [
            "3\n",
            "  *\n",
            " ***\n",
            "*****\n"
          ]
        }
      ]
    }
  ]
}