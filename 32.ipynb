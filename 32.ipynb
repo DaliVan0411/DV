{
  "nbformat": 4,
  "nbformat_minor": 0,
  "metadata": {
    "colab": {
      "name": "32",
      "provenance": [],
      "collapsed_sections": [],
      "authorship_tag": "ABX9TyOOFGfup8FhUvtxjOSuQLeN",
      "include_colab_link": true
    },
    "kernelspec": {
      "name": "python3",
      "display_name": "Python 3"
    },
    "language_info": {
      "name": "python"
    }
  },
  "cells": [
    {
      "cell_type": "markdown",
      "metadata": {
        "id": "view-in-github",
        "colab_type": "text"
      },
      "source": [
        "<a href=\"https://colab.research.google.com/github/DaliVan0411/DV/blob/main/32.ipynb\" target=\"_parent\"><img src=\"https://colab.research.google.com/assets/colab-badge.svg\" alt=\"Open In Colab\"/></a>"
      ]
    },
    {
      "cell_type": "code",
      "execution_count": null,
      "metadata": {
        "colab": {
          "base_uri": "https://localhost:8080/"
        },
        "id": "uoIJSZARnlOH",
        "outputId": "8b4a647e-1068-4784-efcd-c8b49d14ff6a"
      },
      "outputs": [
        {
          "output_type": "execute_result",
          "data": {
            "text/plain": [
              "11"
            ]
          },
          "metadata": {},
          "execution_count": 1
        }
      ],
      "source": [
        "def plus_ten(x):\n",
        "  return x+10\n",
        "plus_ten(1)"
      ]
    },
    {
      "cell_type": "code",
      "source": [
        "plus_ten = lambda x: x + 10\n",
        "plus_ten(1)"
      ],
      "metadata": {
        "colab": {
          "base_uri": "https://localhost:8080/"
        },
        "id": "loYdTYaoshLE",
        "outputId": "ef8de8df-3c5a-44e7-e3b4-ce3f084c07d8"
      },
      "execution_count": null,
      "outputs": [
        {
          "output_type": "execute_result",
          "data": {
            "text/plain": [
              "11"
            ]
          },
          "metadata": {},
          "execution_count": 2
        }
      ]
    },
    {
      "cell_type": "code",
      "source": [
        "(lambda x: x + 10)(1)"
      ],
      "metadata": {
        "colab": {
          "base_uri": "https://localhost:8080/"
        },
        "id": "d7LluEYGshI9",
        "outputId": "4d978575-05b9-4f13-dae2-948806041af9"
      },
      "execution_count": null,
      "outputs": [
        {
          "output_type": "execute_result",
          "data": {
            "text/plain": [
              "11"
            ]
          },
          "metadata": {},
          "execution_count": 3
        }
      ]
    },
    {
      "cell_type": "code",
      "source": [
        "y = 10\n",
        "(lambda x: x + y)(1)"
      ],
      "metadata": {
        "colab": {
          "base_uri": "https://localhost:8080/"
        },
        "id": "r4iaOCYushGt",
        "outputId": "9c3d122a-5d71-4197-b29c-50799d288f4d"
      },
      "execution_count": null,
      "outputs": [
        {
          "output_type": "execute_result",
          "data": {
            "text/plain": [
              "11"
            ]
          },
          "metadata": {},
          "execution_count": 4
        }
      ]
    },
    {
      "cell_type": "code",
      "source": [
        "def plus_ten(x):\n",
        "  return x+10\n",
        "\n",
        "list(map(plus_ten, [1, 2, 3]))"
      ],
      "metadata": {
        "colab": {
          "base_uri": "https://localhost:8080/"
        },
        "id": "5rovdy-SshEh",
        "outputId": "7f091614-d5c4-4947-fe36-c59de9a31cf6"
      },
      "execution_count": null,
      "outputs": [
        {
          "output_type": "execute_result",
          "data": {
            "text/plain": [
              "[11, 12, 13]"
            ]
          },
          "metadata": {},
          "execution_count": 5
        }
      ]
    },
    {
      "cell_type": "code",
      "source": [
        "a = [1, 2, 3, 4, 5, 6, 7, 8, 9, 10]\n",
        "list(map(lambda x: str(x) if x % 3 == 0 else x, a))"
      ],
      "metadata": {
        "colab": {
          "base_uri": "https://localhost:8080/"
        },
        "id": "3qK8bcB9shBo",
        "outputId": "0151ba8d-59d2-4218-bebc-da24ce122572"
      },
      "execution_count": null,
      "outputs": [
        {
          "output_type": "execute_result",
          "data": {
            "text/plain": [
              "[1, 2, '3', 4, 5, '6', 7, 8, '9', 10]"
            ]
          },
          "metadata": {},
          "execution_count": 6
        }
      ]
    },
    {
      "cell_type": "code",
      "source": [
        "a = [1, 2, 3, 4, 5, 6, 7, 8, 9, 10]\n",
        "list(map(lambda x: str(x) if x == 1 else float(x) if x == 2 else x + 10, a))"
      ],
      "metadata": {
        "colab": {
          "base_uri": "https://localhost:8080/"
        },
        "id": "4DXsNE4nsg_S",
        "outputId": "9c8cbf56-c676-4c33-ed47-6e26aa9f7771"
      },
      "execution_count": null,
      "outputs": [
        {
          "output_type": "execute_result",
          "data": {
            "text/plain": [
              "['1', 2.0, 13, 14, 15, 16, 17, 18, 19, 20]"
            ]
          },
          "metadata": {},
          "execution_count": 7
        }
      ]
    },
    {
      "cell_type": "code",
      "source": [
        "def f(x):\n",
        "  if x == 1:\n",
        "    return str(x)\n",
        "  elif x == 2:\n",
        "    return float(x)\n",
        "  else:\n",
        "    return x + 10\n",
        "\n",
        "a = [1, 2, 3, 4, 5, 6, 7, 8, 9, 10]\n",
        "list(map(f, a))"
      ],
      "metadata": {
        "colab": {
          "base_uri": "https://localhost:8080/"
        },
        "id": "FEm0tZHkt0bo",
        "outputId": "b271b21c-f3c1-404b-e37e-73c5e9fe4a5d"
      },
      "execution_count": null,
      "outputs": [
        {
          "output_type": "execute_result",
          "data": {
            "text/plain": [
              "['1', 2.0, 13, 14, 15, 16, 17, 18, 19, 20]"
            ]
          },
          "metadata": {},
          "execution_count": 9
        }
      ]
    },
    {
      "cell_type": "code",
      "source": [
        "a = [1, 2, 3, 4, 5]\n",
        "b = [2, 4, 6, 8, 10]\n",
        "list(map(lambda x, y: x * y, a, b))"
      ],
      "metadata": {
        "colab": {
          "base_uri": "https://localhost:8080/"
        },
        "id": "AVarYfwYt0ZN",
        "outputId": "a0c915aa-c739-4613-f407-d528a9943e1e"
      },
      "execution_count": null,
      "outputs": [
        {
          "output_type": "execute_result",
          "data": {
            "text/plain": [
              "[2, 8, 18, 32, 50]"
            ]
          },
          "metadata": {},
          "execution_count": 10
        }
      ]
    },
    {
      "cell_type": "code",
      "source": [
        "def f(x):\n",
        "  return x>5 and x<10\n",
        "\n",
        "a = [8, 3, 2, 10, 15, 7, 1, 9, 0, 11]\n",
        "list(filter(f,a))"
      ],
      "metadata": {
        "id": "SihgGOA7t0XD",
        "colab": {
          "base_uri": "https://localhost:8080/"
        },
        "outputId": "328b3445-6121-43f6-d3ec-0e84e5d2d822"
      },
      "execution_count": 1,
      "outputs": [
        {
          "output_type": "execute_result",
          "data": {
            "text/plain": [
              "[8, 7, 9]"
            ]
          },
          "metadata": {},
          "execution_count": 1
        }
      ]
    },
    {
      "cell_type": "code",
      "source": [
        "a = [8, 3, 2, 10, 15, 7, 1, 9, 0, 11]\n",
        "list(filter(lambda x: x > 5 and x < 10, a))"
      ],
      "metadata": {
        "id": "dL8YKy14t0Uz",
        "colab": {
          "base_uri": "https://localhost:8080/"
        },
        "outputId": "9631d8e6-44d1-4e8d-84ba-5af00252b449"
      },
      "execution_count": 2,
      "outputs": [
        {
          "output_type": "execute_result",
          "data": {
            "text/plain": [
              "[8, 7, 9]"
            ]
          },
          "metadata": {},
          "execution_count": 2
        }
      ]
    },
    {
      "cell_type": "code",
      "source": [
        "def f(x, y):\n",
        "  return x+y\n",
        "a= [1, 2, 3, 4, 5]\n",
        "from functools import reduce\n",
        "reduce(f, a)"
      ],
      "metadata": {
        "id": "0x7g467St0SV",
        "colab": {
          "base_uri": "https://localhost:8080/"
        },
        "outputId": "ceba876f-db79-4b99-fd71-960775356226"
      },
      "execution_count": 3,
      "outputs": [
        {
          "output_type": "execute_result",
          "data": {
            "text/plain": [
              "15"
            ]
          },
          "metadata": {},
          "execution_count": 3
        }
      ]
    },
    {
      "cell_type": "code",
      "source": [
        "a = [1, 2, 3, 4, 5]\n",
        "from functools import reduce\n",
        "reduce(lambda x, y: x + y, a)"
      ],
      "metadata": {
        "colab": {
          "base_uri": "https://localhost:8080/"
        },
        "id": "mjHeWxkbMwNu",
        "outputId": "a7d89622-b028-4a1a-f2f5-8a91aa17106c"
      },
      "execution_count": 4,
      "outputs": [
        {
          "output_type": "execute_result",
          "data": {
            "text/plain": [
              "15"
            ]
          },
          "metadata": {},
          "execution_count": 4
        }
      ]
    },
    {
      "cell_type": "code",
      "source": [
        "list(map(lambda x: '{0:03d}'.format(int(x.split('.')[0])) + '.' + x.split('.')[1], files))"
      ],
      "metadata": {
        "id": "hsxYFPvVMwLe"
      },
      "execution_count": null,
      "outputs": []
    }
  ]
}