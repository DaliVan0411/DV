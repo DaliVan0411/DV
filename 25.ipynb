{
  "nbformat": 4,
  "nbformat_minor": 0,
  "metadata": {
    "colab": {
      "name": "25",
      "provenance": [],
      "collapsed_sections": [],
      "authorship_tag": "ABX9TyMyB1mEqf95XVFH4pb47ZDy",
      "include_colab_link": true
    },
    "kernelspec": {
      "name": "python3",
      "display_name": "Python 3"
    },
    "language_info": {
      "name": "python"
    }
  },
  "cells": [
    {
      "cell_type": "markdown",
      "metadata": {
        "id": "view-in-github",
        "colab_type": "text"
      },
      "source": [
        "<a href=\"https://colab.research.google.com/github/DaliVan0411/DV/blob/main/25.ipynb\" target=\"_parent\"><img src=\"https://colab.research.google.com/assets/colab-badge.svg\" alt=\"Open In Colab\"/></a>"
      ]
    },
    {
      "cell_type": "code",
      "execution_count": 9,
      "metadata": {
        "colab": {
          "base_uri": "https://localhost:8080/"
        },
        "id": "dTD2OQ18dm42",
        "outputId": "163d3a2a-a7eb-4c17-9e8b-5b5d8549a9d3"
      },
      "outputs": [
        {
          "output_type": "stream",
          "name": "stdout",
          "text": [
            "{'a': 10, 'b': 20, 'c': 30, 'd': 40, 'e': None, 'f': 100}\n"
          ]
        }
      ],
      "source": [
        "x = {'a': 10, 'b': 20, 'c': 30, 'd': 40}\n",
        "x.setdefault('e')\n",
        "x.setdefault('f', 100)\n",
        "print(x)"
      ]
    },
    {
      "cell_type": "code",
      "source": [
        "x = {'a': 10, 'b': 20, 'c': 30, 'd': 40}\n",
        "x.update(a=90)\n",
        "x.update(e=50)\n",
        "print(x)"
      ],
      "metadata": {
        "colab": {
          "base_uri": "https://localhost:8080/"
        },
        "id": "GaKS1e0Bhv4k",
        "outputId": "4dc1af6f-a24e-4c83-df49-b36c1d810064"
      },
      "execution_count": 10,
      "outputs": [
        {
          "output_type": "stream",
          "name": "stdout",
          "text": [
            "{'a': 90, 'b': 20, 'c': 30, 'd': 40, 'e': 50}\n"
          ]
        }
      ]
    },
    {
      "cell_type": "code",
      "source": [
        "x = {'a': 10, 'b': 20, 'c': 30, 'd': 40}\n",
        "x.update(a=900, f=60)\n",
        "print(x)"
      ],
      "metadata": {
        "colab": {
          "base_uri": "https://localhost:8080/"
        },
        "id": "ZAeYO5tBhv2b",
        "outputId": "20ff0dbb-5e8a-4091-fec3-68ac9f7f2164"
      },
      "execution_count": 13,
      "outputs": [
        {
          "output_type": "stream",
          "name": "stdout",
          "text": [
            "{'a': 900, 'b': 20, 'c': 30, 'd': 40, 'f': 60}\n"
          ]
        }
      ]
    },
    {
      "cell_type": "code",
      "source": [
        "y = {1: 'one', 2: 'two'}\n",
        "y.update({1: 'ONE', 3: 'THREE'})\n",
        "print(y)"
      ],
      "metadata": {
        "colab": {
          "base_uri": "https://localhost:8080/"
        },
        "id": "vMMSTQN5hvxZ",
        "outputId": "8847999a-bb6b-447c-8e59-250a54cf7e5e"
      },
      "execution_count": 14,
      "outputs": [
        {
          "output_type": "stream",
          "name": "stdout",
          "text": [
            "{1: 'ONE', 2: 'two', 3: 'THREE'}\n"
          ]
        }
      ]
    },
    {
      "cell_type": "code",
      "source": [
        "y = {1: 'one', 2: 'two'}\n",
        "y.update([[2, 'TWO'], [4, 'FOUR']])\n",
        "print(y)"
      ],
      "metadata": {
        "colab": {
          "base_uri": "https://localhost:8080/"
        },
        "id": "sw9c4Z2shvu8",
        "outputId": "89a72410-0632-4e98-8b98-1c66fdbd0552"
      },
      "execution_count": 15,
      "outputs": [
        {
          "output_type": "stream",
          "name": "stdout",
          "text": [
            "{1: 'one', 2: 'TWO', 4: 'FOUR'}\n"
          ]
        }
      ]
    },
    {
      "cell_type": "code",
      "source": [
        "y = {1: 'one', 2: 'two'}\n",
        "y.update(zip([1, 2], ['one', 'two']))\n",
        "print(y)"
      ],
      "metadata": {
        "colab": {
          "base_uri": "https://localhost:8080/"
        },
        "id": "EZ8XShyrhvrw",
        "outputId": "8a41ad2e-b927-41db-9ae4-8fb3fd450aa3"
      },
      "execution_count": 16,
      "outputs": [
        {
          "output_type": "stream",
          "name": "stdout",
          "text": [
            "{1: 'one', 2: 'two'}\n"
          ]
        }
      ]
    },
    {
      "cell_type": "code",
      "source": [
        "x = {'a': 10, 'b': 20, 'c': 30, 'd': 40}\n",
        "x.pop('a')"
      ],
      "metadata": {
        "colab": {
          "base_uri": "https://localhost:8080/"
        },
        "id": "PLYNiQgeniaA",
        "outputId": "5c118817-1910-4ae9-f9b5-53fa7c317f08"
      },
      "execution_count": 19,
      "outputs": [
        {
          "output_type": "execute_result",
          "data": {
            "text/plain": [
              "10"
            ]
          },
          "metadata": {},
          "execution_count": 19
        }
      ]
    },
    {
      "cell_type": "code",
      "source": [
        "x = {'a': 10, 'b': 20, 'c': 30, 'd': 40}\n",
        "x.pop('a')\n",
        "print(x)"
      ],
      "metadata": {
        "colab": {
          "base_uri": "https://localhost:8080/"
        },
        "id": "aznPamvRmQHg",
        "outputId": "0a6dc7ca-ad08-45ef-e318-6c168dfb1dcd"
      },
      "execution_count": 18,
      "outputs": [
        {
          "output_type": "stream",
          "name": "stdout",
          "text": [
            "{'b': 20, 'c': 30, 'd': 40}\n"
          ]
        }
      ]
    },
    {
      "cell_type": "code",
      "source": [
        "x = {'a': 10, 'b': 20, 'c': 30, 'd': 40}\n",
        "del x['a']\n",
        "print(x)"
      ],
      "metadata": {
        "colab": {
          "base_uri": "https://localhost:8080/"
        },
        "id": "rUE73gENn51M",
        "outputId": "cbc5617b-e012-4da7-a6b2-40219e1c7b93"
      },
      "execution_count": 22,
      "outputs": [
        {
          "output_type": "stream",
          "name": "stdout",
          "text": [
            "{'b': 20, 'c': 30, 'd': 40}\n"
          ]
        }
      ]
    },
    {
      "cell_type": "code",
      "source": [
        "x = {'a': 10, 'b': 20, 'c': 30, 'd': 40}\n",
        "x.popitem()"
      ],
      "metadata": {
        "colab": {
          "base_uri": "https://localhost:8080/"
        },
        "id": "fuaLXDjmn5y6",
        "outputId": "0638fe4f-bb3f-4c57-8357-135711c71c1f"
      },
      "execution_count": 23,
      "outputs": [
        {
          "output_type": "execute_result",
          "data": {
            "text/plain": [
              "('d', 40)"
            ]
          },
          "metadata": {},
          "execution_count": 23
        }
      ]
    },
    {
      "cell_type": "code",
      "source": [
        "x = {'a': 10, 'b': 20, 'c': 30, 'd': 40}\n",
        "x.popitem()\n",
        "print(x)"
      ],
      "metadata": {
        "colab": {
          "base_uri": "https://localhost:8080/"
        },
        "id": "zKH7clVhn5w2",
        "outputId": "f37923cc-963b-42ea-98a9-bd06d978c94d"
      },
      "execution_count": 24,
      "outputs": [
        {
          "output_type": "stream",
          "name": "stdout",
          "text": [
            "{'a': 10, 'b': 20, 'c': 30}\n"
          ]
        }
      ]
    },
    {
      "cell_type": "code",
      "source": [
        "x = {'a': 10, 'b': 20, 'c': 30, 'd': 40}\n",
        "x.clear()\n",
        "print(x)"
      ],
      "metadata": {
        "colab": {
          "base_uri": "https://localhost:8080/"
        },
        "id": "LmiA4Tdyn5ua",
        "outputId": "6e9661e1-125d-489f-db72-35d7a96cc14f"
      },
      "execution_count": 26,
      "outputs": [
        {
          "output_type": "stream",
          "name": "stdout",
          "text": [
            "{}\n"
          ]
        }
      ]
    },
    {
      "cell_type": "code",
      "source": [
        "x = {'a': 10, 'b': 20, 'c': 30, 'd': 40}\n",
        "x.get('a')"
      ],
      "metadata": {
        "colab": {
          "base_uri": "https://localhost:8080/"
        },
        "id": "DhydQdoan5r7",
        "outputId": "77a8e91b-1f4c-40e7-dc5b-aa1ce1a34ff6"
      },
      "execution_count": 27,
      "outputs": [
        {
          "output_type": "execute_result",
          "data": {
            "text/plain": [
              "10"
            ]
          },
          "metadata": {},
          "execution_count": 27
        }
      ]
    },
    {
      "cell_type": "code",
      "source": [
        "x = {'a': 10, 'b': 20, 'c': 30, 'd': 40}\n",
        "x.items()"
      ],
      "metadata": {
        "colab": {
          "base_uri": "https://localhost:8080/"
        },
        "id": "OjIdkW1un5nG",
        "outputId": "38b045a8-bcb0-4ccd-8da7-f12e3393b7a1"
      },
      "execution_count": 32,
      "outputs": [
        {
          "output_type": "execute_result",
          "data": {
            "text/plain": [
              "dict_items([('a', 10), ('b', 20), ('c', 30), ('d', 40)])"
            ]
          },
          "metadata": {},
          "execution_count": 32
        }
      ]
    },
    {
      "cell_type": "code",
      "source": [
        "x = {'a': 10, 'b': 20, 'c': 30, 'd': 40}\n",
        "x.keys()"
      ],
      "metadata": {
        "colab": {
          "base_uri": "https://localhost:8080/"
        },
        "id": "Mk099u49n5kk",
        "outputId": "4aa34b06-d144-4108-f77a-871d86bac5a1"
      },
      "execution_count": 33,
      "outputs": [
        {
          "output_type": "execute_result",
          "data": {
            "text/plain": [
              "dict_keys(['a', 'b', 'c', 'd'])"
            ]
          },
          "metadata": {},
          "execution_count": 33
        }
      ]
    },
    {
      "cell_type": "code",
      "source": [
        "x = {'a': 10, 'b': 20, 'c': 30, 'd': 40}\n",
        "x.values()"
      ],
      "metadata": {
        "colab": {
          "base_uri": "https://localhost:8080/"
        },
        "id": "kUt1ZvQen5iR",
        "outputId": "8298e9d2-5d14-432f-c458-0a5f632c404b"
      },
      "execution_count": 34,
      "outputs": [
        {
          "output_type": "execute_result",
          "data": {
            "text/plain": [
              "dict_values([10, 20, 30, 40])"
            ]
          },
          "metadata": {},
          "execution_count": 34
        }
      ]
    },
    {
      "cell_type": "code",
      "source": [
        "keys = ['a', 'b', 'c', 'd']\n",
        "x = dict.fromkeys(keys)\n",
        "print(x)"
      ],
      "metadata": {
        "colab": {
          "base_uri": "https://localhost:8080/"
        },
        "id": "zDkTIPMen5f0",
        "outputId": "bd04b70d-aff4-4717-e02d-0243411a5350"
      },
      "execution_count": 35,
      "outputs": [
        {
          "output_type": "stream",
          "name": "stdout",
          "text": [
            "{'a': None, 'b': None, 'c': None, 'd': None}\n"
          ]
        }
      ]
    },
    {
      "cell_type": "code",
      "source": [
        "keys = ['a', 'b', 'c', 'd']\n",
        "x = dict.fromkeys(keys,100)\n",
        "print(x)"
      ],
      "metadata": {
        "colab": {
          "base_uri": "https://localhost:8080/"
        },
        "id": "tDcOoq60n5dp",
        "outputId": "2b847a04-f189-40fb-cae8-2831643ca552"
      },
      "execution_count": 37,
      "outputs": [
        {
          "output_type": "stream",
          "name": "stdout",
          "text": [
            "{'a': 100, 'b': 100, 'c': 100, 'd': 100}\n"
          ]
        }
      ]
    },
    {
      "cell_type": "code",
      "source": [
        "x = {'a': 10, 'b': 20, 'c': 30, 'd': 40}\n",
        "for i in x:\n",
        "  print(i,end=' ')"
      ],
      "metadata": {
        "colab": {
          "base_uri": "https://localhost:8080/"
        },
        "id": "6ZaqOVurn5bI",
        "outputId": "07bca166-f7f7-4d2e-94bf-b6c802bcbd57"
      },
      "execution_count": 39,
      "outputs": [
        {
          "output_type": "stream",
          "name": "stdout",
          "text": [
            "a b c d "
          ]
        }
      ]
    },
    {
      "cell_type": "code",
      "source": [
        "x = {'a': 10, 'b': 20, 'c': 30, 'd': 40}\n",
        "for key, value in x.items():\n",
        "  print(key, value)"
      ],
      "metadata": {
        "colab": {
          "base_uri": "https://localhost:8080/"
        },
        "id": "GwLi3ciYmQA_",
        "outputId": "a6ef738d-7441-448e-c950-2fa57d27a93c"
      },
      "execution_count": 40,
      "outputs": [
        {
          "output_type": "stream",
          "name": "stdout",
          "text": [
            "a 10\n",
            "b 20\n",
            "c 30\n",
            "d 40\n"
          ]
        }
      ]
    },
    {
      "cell_type": "code",
      "source": [
        "x = {'a': 10, 'b': 20, 'c': 30, 'd': 40}\n",
        "for key in x.keys():\n",
        "  print(key,end=' ')"
      ],
      "metadata": {
        "colab": {
          "base_uri": "https://localhost:8080/"
        },
        "id": "tqeQ4NMFmP-o",
        "outputId": "582a08bd-acdb-4a62-a691-e84552323038"
      },
      "execution_count": 43,
      "outputs": [
        {
          "output_type": "stream",
          "name": "stdout",
          "text": [
            "a b c d "
          ]
        }
      ]
    },
    {
      "cell_type": "code",
      "source": [
        "x = {'a': 10, 'b': 20, 'c': 30, 'd': 40}\n",
        "for value in x.values():\n",
        "  print(value,end=' ')"
      ],
      "metadata": {
        "colab": {
          "base_uri": "https://localhost:8080/"
        },
        "id": "DsJtub1cr61V",
        "outputId": "60f5f2a8-7e4f-4aee-95c4-7c028b262730"
      },
      "execution_count": 44,
      "outputs": [
        {
          "output_type": "stream",
          "name": "stdout",
          "text": [
            "10 20 30 40 "
          ]
        }
      ]
    },
    {
      "cell_type": "code",
      "source": [
        "keys = ['a', 'b', 'c', 'd']\n",
        "x = {key: value for key, value in dict.fromkeys(keys).items()}\n",
        "print(x)"
      ],
      "metadata": {
        "colab": {
          "base_uri": "https://localhost:8080/"
        },
        "id": "3EftL1uEthRZ",
        "outputId": "a4e5599f-50d9-4d88-e138-fe41265354bb"
      },
      "execution_count": 45,
      "outputs": [
        {
          "output_type": "stream",
          "name": "stdout",
          "text": [
            "{'a': None, 'b': None, 'c': None, 'd': None}\n"
          ]
        }
      ]
    },
    {
      "cell_type": "code",
      "source": [
        "{key: 0 for key in dict.fromkeys(['a', 'b', 'c', 'd']).keys()}"
      ],
      "metadata": {
        "colab": {
          "base_uri": "https://localhost:8080/"
        },
        "id": "iMDiMbxszl2k",
        "outputId": "d2a10b8c-e618-4119-e67b-838cce9e4c94"
      },
      "execution_count": 48,
      "outputs": [
        {
          "output_type": "execute_result",
          "data": {
            "text/plain": [
              "{'a': 0, 'b': 0, 'c': 0, 'd': 0}"
            ]
          },
          "metadata": {},
          "execution_count": 48
        }
      ]
    },
    {
      "cell_type": "code",
      "source": [
        "{value: 0 for value in {'a':10, 'b':20, 'c':30, 'd':40}.values()}"
      ],
      "metadata": {
        "colab": {
          "base_uri": "https://localhost:8080/"
        },
        "id": "P14yUxLs8xeu",
        "outputId": "6984ea39-925a-460e-fcd7-b8f23b35066e"
      },
      "execution_count": 52,
      "outputs": [
        {
          "output_type": "execute_result",
          "data": {
            "text/plain": [
              "{10: 0, 20: 0, 30: 0, 40: 0}"
            ]
          },
          "metadata": {},
          "execution_count": 52
        }
      ]
    },
    {
      "cell_type": "code",
      "source": [
        "{value: key for key, value in {'a':10, 'b':20, 'c':30, 'd':40}.items()}"
      ],
      "metadata": {
        "colab": {
          "base_uri": "https://localhost:8080/"
        },
        "id": "AzY1mOsBzl0W",
        "outputId": "3e691220-d99e-4abe-dabe-dd4fae963c0b"
      },
      "execution_count": 55,
      "outputs": [
        {
          "output_type": "execute_result",
          "data": {
            "text/plain": [
              "{10: 'a', 20: 'b', 30: 'c', 40: 'd'}"
            ]
          },
          "metadata": {},
          "execution_count": 55
        }
      ]
    },
    {
      "cell_type": "code",
      "source": [
        "x = {'a': 10, 'b': 20, 'c': 30, 'd': 40}\n",
        "x = {key: value for key,value in x.items() if value != 20}\n",
        "print(x)"
      ],
      "metadata": {
        "colab": {
          "base_uri": "https://localhost:8080/"
        },
        "id": "OjOJ7v4Gzlx6",
        "outputId": "ebbb6767-5441-4aa2-da38-83b2e8d2c422"
      },
      "execution_count": 61,
      "outputs": [
        {
          "output_type": "stream",
          "name": "stdout",
          "text": [
            "{'a': 10, 'c': 30, 'd': 40}\n"
          ]
        }
      ]
    },
    {
      "cell_type": "code",
      "source": [
        "x = {'a': 0, 'b': 0, 'c': 0, 'd': 0}\n",
        "y = x\n",
        "print(x is y)"
      ],
      "metadata": {
        "colab": {
          "base_uri": "https://localhost:8080/"
        },
        "id": "2sFD2118r6zK",
        "outputId": "c99c0296-e1eb-4eb3-a14b-74208f2dd489"
      },
      "execution_count": 63,
      "outputs": [
        {
          "output_type": "stream",
          "name": "stdout",
          "text": [
            "True\n"
          ]
        }
      ]
    },
    {
      "cell_type": "code",
      "source": [
        "x = {'a': 0, 'b': 0, 'c': 0, 'd': 0}\n",
        "y = x\n",
        "y['a'] = 99\n",
        "print(x)\n",
        "print(y)"
      ],
      "metadata": {
        "colab": {
          "base_uri": "https://localhost:8080/"
        },
        "id": "dfpskId3r6w4",
        "outputId": "e0217b7a-34d5-47c2-c4e5-3866a0f50187"
      },
      "execution_count": 65,
      "outputs": [
        {
          "output_type": "stream",
          "name": "stdout",
          "text": [
            "{'a': 99, 'b': 0, 'c': 0, 'd': 0}\n",
            "{'a': 99, 'b': 0, 'c': 0, 'd': 0}\n"
          ]
        }
      ]
    },
    {
      "cell_type": "code",
      "source": [
        "x = {'a': 0, 'b': 0, 'c': 0, 'd': 0}\n",
        "y = x.copy()\n",
        "print(x is y)\n",
        "print(x == y)"
      ],
      "metadata": {
        "colab": {
          "base_uri": "https://localhost:8080/"
        },
        "id": "Dhcw-s_HXHf8",
        "outputId": "8021ba4b-0482-44fc-e8ba-ed90b37a78b5"
      },
      "execution_count": 67,
      "outputs": [
        {
          "output_type": "stream",
          "name": "stdout",
          "text": [
            "False\n",
            "True\n"
          ]
        }
      ]
    },
    {
      "cell_type": "code",
      "source": [
        "x = {'a': {'python': '2.7'}, 'b': {'python': '3.6'}}\n",
        "y = x.copy()\n",
        "y['a']['python'] = '2.7.15'\n",
        "print(x)\n",
        "print(y)"
      ],
      "metadata": {
        "colab": {
          "base_uri": "https://localhost:8080/"
        },
        "id": "1AqXo-RsXHdp",
        "outputId": "0cbbd317-c225-4102-fd4c-ac762f460cee"
      },
      "execution_count": 68,
      "outputs": [
        {
          "output_type": "stream",
          "name": "stdout",
          "text": [
            "{'a': {'python': '2.7.15'}, 'b': {'python': '3.6'}}\n",
            "{'a': {'python': '2.7.15'}, 'b': {'python': '3.6'}}\n"
          ]
        }
      ]
    },
    {
      "cell_type": "code",
      "source": [
        "x = {'a': {'python': '2.7'}, 'b': {'python': '3.6'}}\n",
        "import copy\n",
        "y = copy.deepcopy(x)\n",
        "y['a']['python'] = '2.7.15'\n",
        "print(x)\n",
        "print(y)"
      ],
      "metadata": {
        "colab": {
          "base_uri": "https://localhost:8080/"
        },
        "id": "rbGU6XBMXHbV",
        "outputId": "a78f596a-962a-4fb5-8ee5-991bdeec98ad"
      },
      "execution_count": 69,
      "outputs": [
        {
          "output_type": "stream",
          "name": "stdout",
          "text": [
            "{'a': {'python': '2.7'}, 'b': {'python': '3.6'}}\n",
            "{'a': {'python': '2.7.15'}, 'b': {'python': '3.6'}}\n"
          ]
        }
      ]
    },
    {
      "cell_type": "code",
      "source": [
        "keys = input().split()\n",
        "values = map(int, input().split())\n",
        "x = dict(zip(keys, values))\n",
        "x.pop('delta')\n",
        "x = {key: value for key,value in x.items() if value != 30}\n",
        "print(x)"
      ],
      "metadata": {
        "colab": {
          "base_uri": "https://localhost:8080/"
        },
        "id": "JsUDThJ0Y_zv",
        "outputId": "2c5bf03b-6fc3-4996-b377-7551a2be7bf3"
      },
      "execution_count": 74,
      "outputs": [
        {
          "output_type": "stream",
          "name": "stdout",
          "text": [
            "alpha bravo charlie delta echo foxtrot golf\n",
            "30 40 50 60 70 80 90\n",
            "{'bravo': 40, 'charlie': 50, 'echo': 70, 'foxtrot': 80, 'golf': 90}\n"
          ]
        }
      ]
    }
  ]
}