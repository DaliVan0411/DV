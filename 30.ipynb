{
  "nbformat": 4,
  "nbformat_minor": 0,
  "metadata": {
    "colab": {
      "name": "30",
      "provenance": [],
      "collapsed_sections": [],
      "authorship_tag": "ABX9TyNnUSmq35sB7JzLJ9MX5Jvn",
      "include_colab_link": true
    },
    "kernelspec": {
      "name": "python3",
      "display_name": "Python 3"
    },
    "language_info": {
      "name": "python"
    }
  },
  "cells": [
    {
      "cell_type": "markdown",
      "metadata": {
        "id": "view-in-github",
        "colab_type": "text"
      },
      "source": [
        "<a href=\"https://colab.research.google.com/github/DaliVan0411/DV/blob/main/30.ipynb\" target=\"_parent\"><img src=\"https://colab.research.google.com/assets/colab-badge.svg\" alt=\"Open In Colab\"/></a>"
      ]
    },
    {
      "cell_type": "code",
      "execution_count": null,
      "metadata": {
        "id": "M94hmJlKx_oR"
      },
      "outputs": [],
      "source": [
        "def print_numbers(a, b, c):\n",
        "  print(a)\n",
        "  print(b)\n",
        "  print(c)"
      ]
    },
    {
      "cell_type": "code",
      "source": [
        "print_numbers(10, 20, 30)"
      ],
      "metadata": {
        "colab": {
          "base_uri": "https://localhost:8080/"
        },
        "id": "D0Q9iQiW9Mky",
        "outputId": "f8747a28-382a-4a8a-9321-1dbe10eaa941"
      },
      "execution_count": null,
      "outputs": [
        {
          "output_type": "stream",
          "name": "stdout",
          "text": [
            "10\n",
            "20\n",
            "30\n"
          ]
        }
      ]
    },
    {
      "cell_type": "code",
      "source": [
        "x = [10, 20, 30]\n",
        "print_numbers(*x)"
      ],
      "metadata": {
        "colab": {
          "base_uri": "https://localhost:8080/"
        },
        "id": "Of8qLB7S9Mir",
        "outputId": "a7f73b83-1f74-4078-99ec-76c6be4f4ef2"
      },
      "execution_count": null,
      "outputs": [
        {
          "output_type": "stream",
          "name": "stdout",
          "text": [
            "10\n",
            "20\n",
            "30\n"
          ]
        }
      ]
    },
    {
      "cell_type": "code",
      "source": [
        "print_numbers(*[10, 20, 30])"
      ],
      "metadata": {
        "colab": {
          "base_uri": "https://localhost:8080/"
        },
        "id": "plg3ap7s9Mgd",
        "outputId": "d7b53d76-ac89-4f20-a2a2-4280cb67cd2e"
      },
      "execution_count": null,
      "outputs": [
        {
          "output_type": "stream",
          "name": "stdout",
          "text": [
            "10\n",
            "20\n",
            "30\n"
          ]
        }
      ]
    },
    {
      "cell_type": "code",
      "source": [
        "def print_numbers(*args):\n",
        "  for arg in args:\n",
        "    print(arg)"
      ],
      "metadata": {
        "id": "GaJAHr6Y9MeR"
      },
      "execution_count": null,
      "outputs": []
    },
    {
      "cell_type": "code",
      "source": [
        "print_numbers(10)"
      ],
      "metadata": {
        "colab": {
          "base_uri": "https://localhost:8080/"
        },
        "id": "we5AHiP99tV6",
        "outputId": "72aeda1f-ce7a-4deb-9453-94159ef4eaa9"
      },
      "execution_count": null,
      "outputs": [
        {
          "output_type": "stream",
          "name": "stdout",
          "text": [
            "10\n"
          ]
        }
      ]
    },
    {
      "cell_type": "code",
      "source": [
        "print_numbers(10, 20, 30, 40)"
      ],
      "metadata": {
        "colab": {
          "base_uri": "https://localhost:8080/"
        },
        "id": "Q7vHctiJ9tTa",
        "outputId": "8d77808f-6586-44b9-c339-04809c6ffe16"
      },
      "execution_count": null,
      "outputs": [
        {
          "output_type": "stream",
          "name": "stdout",
          "text": [
            "10\n",
            "20\n",
            "30\n",
            "40\n"
          ]
        }
      ]
    },
    {
      "cell_type": "code",
      "source": [
        "x =[10]\n",
        "print_numbers(*x)"
      ],
      "metadata": {
        "colab": {
          "base_uri": "https://localhost:8080/"
        },
        "id": "INuOUqvT9tQ4",
        "outputId": "30b464e3-0360-45a6-a701-9573be26bccd"
      },
      "execution_count": null,
      "outputs": [
        {
          "output_type": "stream",
          "name": "stdout",
          "text": [
            "10\n"
          ]
        }
      ]
    },
    {
      "cell_type": "code",
      "source": [
        "y=[10, 20, 30, 40]\n",
        "print_numbers(*y)"
      ],
      "metadata": {
        "colab": {
          "base_uri": "https://localhost:8080/"
        },
        "id": "aS_Nof4o-srx",
        "outputId": "839e6e02-ed76-41e0-b55c-ecb0b12d90de"
      },
      "execution_count": null,
      "outputs": [
        {
          "output_type": "stream",
          "name": "stdout",
          "text": [
            "10\n",
            "20\n",
            "30\n",
            "40\n"
          ]
        }
      ]
    },
    {
      "cell_type": "code",
      "source": [
        "def personal_info(name, age, address):\n",
        "  print('이름: ', name)\n",
        "  print('나이: ', age)\n",
        "  print('주소: ', address)"
      ],
      "metadata": {
        "id": "79J1I-5j_Nyg"
      },
      "execution_count": null,
      "outputs": []
    },
    {
      "cell_type": "code",
      "source": [
        "personal_info('홍길동', 30, '서울시 용산구 이촌동')"
      ],
      "metadata": {
        "colab": {
          "base_uri": "https://localhost:8080/"
        },
        "id": "L2A1S52p-spj",
        "outputId": "37d462d5-e2f1-42f5-ed44-02d6f0dc43e2"
      },
      "execution_count": null,
      "outputs": [
        {
          "output_type": "stream",
          "name": "stdout",
          "text": [
            "이름:  홍길동\n",
            "나이:  30\n",
            "주소:  서울시 용산구 이촌동\n"
          ]
        }
      ]
    },
    {
      "cell_type": "code",
      "source": [
        "personal_info(name='홍길동', age=30, address='서울시 용산구 이촌동')"
      ],
      "metadata": {
        "colab": {
          "base_uri": "https://localhost:8080/"
        },
        "id": "u6P7Iocu_rCm",
        "outputId": "71c5a71f-6ee6-4af6-ba3a-2f70bcf0827a"
      },
      "execution_count": null,
      "outputs": [
        {
          "output_type": "stream",
          "name": "stdout",
          "text": [
            "이름:  홍길동\n",
            "나이:  30\n",
            "주소:  서울시 용산구 이촌동\n"
          ]
        }
      ]
    },
    {
      "cell_type": "code",
      "source": [
        "print(10, 20, 30, sep=':', end='')"
      ],
      "metadata": {
        "colab": {
          "base_uri": "https://localhost:8080/"
        },
        "id": "w8w-C0TU_rAK",
        "outputId": "6247e130-a97c-4f88-a6ac-97cb51c2d130"
      },
      "execution_count": null,
      "outputs": [
        {
          "output_type": "stream",
          "name": "stdout",
          "text": [
            "10:20:30"
          ]
        }
      ]
    },
    {
      "cell_type": "code",
      "source": [
        "def personal_info(name, age, address):\n",
        "  print('이름: ', name)\n",
        "  print('나이: ', age)\n",
        "  print('주소: ', address)"
      ],
      "metadata": {
        "id": "nW0aZnSV-snJ"
      },
      "execution_count": null,
      "outputs": []
    },
    {
      "cell_type": "code",
      "source": [
        "x = {'name': '홍길동', 'age': 30, 'address': '서울시 용산구 이촌동'}\n",
        "personal_info(**x)"
      ],
      "metadata": {
        "colab": {
          "base_uri": "https://localhost:8080/"
        },
        "id": "aDD3vUl9-sku",
        "outputId": "e9fbe038-f4d5-4b1d-b116-3a4ad93b9baa"
      },
      "execution_count": null,
      "outputs": [
        {
          "output_type": "stream",
          "name": "stdout",
          "text": [
            "이름:  홍길동\n",
            "나이:  30\n",
            "주소:  서울시 용산구 이촌동\n"
          ]
        }
      ]
    },
    {
      "cell_type": "code",
      "source": [
        "personal_info(**{'name': '홍길동', 'age': 30, 'address': '서울시 용산구 이촌동'})"
      ],
      "metadata": {
        "colab": {
          "base_uri": "https://localhost:8080/"
        },
        "id": "6y0E29BCABEj",
        "outputId": "42fce84e-5de4-4bc5-9cbf-98468bf5768e"
      },
      "execution_count": null,
      "outputs": [
        {
          "output_type": "stream",
          "name": "stdout",
          "text": [
            "이름:  홍길동\n",
            "나이:  30\n",
            "주소:  서울시 용산구 이촌동\n"
          ]
        }
      ]
    },
    {
      "cell_type": "code",
      "source": [
        "def personal_info(**kwargs):\n",
        "   for kw, arg in kwargs.items():\n",
        "     print(kw, arg, sep=':')\n",
        "personal_info(name='홍길동')"
      ],
      "metadata": {
        "colab": {
          "base_uri": "https://localhost:8080/"
        },
        "id": "G8Mh-8O6ABCT",
        "outputId": "a5625983-5318-4d3d-8ed5-879a23335f6e"
      },
      "execution_count": null,
      "outputs": [
        {
          "output_type": "stream",
          "name": "stdout",
          "text": [
            "name:홍길동\n"
          ]
        }
      ]
    },
    {
      "cell_type": "code",
      "source": [
        "personal_info(name='홍길동', age=30, address='서울시 용산구 이촌동')"
      ],
      "metadata": {
        "colab": {
          "base_uri": "https://localhost:8080/"
        },
        "id": "k5KN7fTTAA_1",
        "outputId": "59d3ede3-1606-4396-c096-6d65accf1234"
      },
      "execution_count": null,
      "outputs": [
        {
          "output_type": "stream",
          "name": "stdout",
          "text": [
            "name:홍길동\n",
            "age:30\n",
            "address:서울시 용산구 이촌동\n"
          ]
        }
      ]
    },
    {
      "cell_type": "code",
      "source": [
        "def personal_info(**kwargs):\n",
        "  if 'name' in kwargs:\n",
        "    print('이름: ', kwargs['name'])\n",
        "  if 'age' in kwargs:\n",
        "    print('나이: ', kwargs['age'])\n",
        "  if 'address' in kwargs:\n",
        "    print('주소: ', kwargs['address'])"
      ],
      "metadata": {
        "id": "q1Fa8brVAA9w"
      },
      "execution_count": null,
      "outputs": []
    },
    {
      "cell_type": "code",
      "source": [
        "def personal_info(name, **kwargs):\n",
        "  print(name)\n",
        "  print(kwargs)"
      ],
      "metadata": {
        "id": "GRMDhG37AA7W"
      },
      "execution_count": null,
      "outputs": []
    },
    {
      "cell_type": "code",
      "source": [
        "personal_info('홍길동')"
      ],
      "metadata": {
        "colab": {
          "base_uri": "https://localhost:8080/"
        },
        "id": "tAE9gSa2AA5N",
        "outputId": "c5413b33-c04c-4831-fd66-ccd0b31398b3"
      },
      "execution_count": null,
      "outputs": [
        {
          "output_type": "stream",
          "name": "stdout",
          "text": [
            "홍길동\n",
            "{}\n"
          ]
        }
      ]
    },
    {
      "cell_type": "code",
      "source": [
        "personal_info('홍길동', age=30, address='서울시 용산구 이촌동')"
      ],
      "metadata": {
        "colab": {
          "base_uri": "https://localhost:8080/"
        },
        "id": "fuiiIoRfFMmD",
        "outputId": "5b0c9171-f500-46c5-8534-6c59803b3868"
      },
      "execution_count": null,
      "outputs": [
        {
          "output_type": "stream",
          "name": "stdout",
          "text": [
            "홍길동\n",
            "{'age': 30, 'address': '서울시 용산구 이촌동'}\n"
          ]
        }
      ]
    },
    {
      "cell_type": "code",
      "source": [
        "personal_info(**{'name': '홍길동', 'age': 30, 'address': '서울시 용산구 이촌동'})"
      ],
      "metadata": {
        "colab": {
          "base_uri": "https://localhost:8080/"
        },
        "id": "9CmD57IMFMj6",
        "outputId": "727873bd-6689-44a9-fde6-be45577bb204"
      },
      "execution_count": null,
      "outputs": [
        {
          "output_type": "stream",
          "name": "stdout",
          "text": [
            "홍길동\n",
            "{'age': 30, 'address': '서울시 용산구 이촌동'}\n"
          ]
        }
      ]
    },
    {
      "cell_type": "code",
      "source": [
        "def personal_info(name, age, address='비공개'):\n",
        "  print('이름: ', name)\n",
        "  print('나이: ', age)\n",
        "  print('주소: ', address)"
      ],
      "metadata": {
        "id": "nCpJQZ57rGJI"
      },
      "execution_count": 1,
      "outputs": []
    },
    {
      "cell_type": "code",
      "source": [
        "personal_info('홍길동', 30)"
      ],
      "metadata": {
        "colab": {
          "base_uri": "https://localhost:8080/"
        },
        "id": "Ofy2kKzgrGFq",
        "outputId": "ec278b8f-4837-4097-ee9f-cfcddeb13194"
      },
      "execution_count": 2,
      "outputs": [
        {
          "output_type": "stream",
          "name": "stdout",
          "text": [
            "이름:  홍길동\n",
            "나이:  30\n",
            "주소:  비공개\n"
          ]
        }
      ]
    },
    {
      "cell_type": "code",
      "source": [
        "personal_info('홍길동', 30, '서울시 용산구 이촌동')"
      ],
      "metadata": {
        "colab": {
          "base_uri": "https://localhost:8080/"
        },
        "id": "R5IFeFLIrGDK",
        "outputId": "45a732f5-beef-4baa-a8db-b49dadf6ea56"
      },
      "execution_count": 3,
      "outputs": [
        {
          "output_type": "stream",
          "name": "stdout",
          "text": [
            "이름:  홍길동\n",
            "나이:  30\n",
            "주소:  서울시 용산구 이촌동\n"
          ]
        }
      ]
    },
    {
      "cell_type": "code",
      "source": [
        ""
      ],
      "metadata": {
        "id": "1G0UqF3VrF94"
      },
      "execution_count": null,
      "outputs": []
    }
  ]
}