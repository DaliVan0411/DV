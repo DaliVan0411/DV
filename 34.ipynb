{
  "nbformat": 4,
  "nbformat_minor": 0,
  "metadata": {
    "colab": {
      "name": "34",
      "provenance": [],
      "collapsed_sections": [],
      "authorship_tag": "ABX9TyNabdGN0k88/tfhWVER9ghX",
      "include_colab_link": true
    },
    "kernelspec": {
      "name": "python3",
      "display_name": "Python 3"
    },
    "language_info": {
      "name": "python"
    }
  },
  "cells": [
    {
      "cell_type": "markdown",
      "metadata": {
        "id": "view-in-github",
        "colab_type": "text"
      },
      "source": [
        "<a href=\"https://colab.research.google.com/github/DaliVan0411/DV/blob/main/34.ipynb\" target=\"_parent\"><img src=\"https://colab.research.google.com/assets/colab-badge.svg\" alt=\"Open In Colab\"/></a>"
      ]
    },
    {
      "cell_type": "code",
      "execution_count": 2,
      "metadata": {
        "colab": {
          "base_uri": "https://localhost:8080/"
        },
        "id": "W7P88UiQp67H",
        "outputId": "ccc79471-600b-4ea0-96e9-0f52498d3293"
      },
      "outputs": [
        {
          "output_type": "stream",
          "name": "stdout",
          "text": [
            "Hello\n"
          ]
        }
      ],
      "source": [
        "class Person:\n",
        "  def greeting(self):\n",
        "    print('Hello')\n",
        "james = Person()\n",
        "james.greeting()"
      ]
    },
    {
      "cell_type": "code",
      "source": [
        "class Person:\n",
        "  def __init__(self):\n",
        "    self.hello = '안녕하세요.'\n",
        "    \n",
        "  def greeting(self):\n",
        "    print(self.hello)\n",
        " \n",
        "james = Person()\n",
        "james.greeting()"
      ],
      "metadata": {
        "colab": {
          "base_uri": "https://localhost:8080/"
        },
        "id": "TsPAJXu84P5m",
        "outputId": "1d7db14a-cf74-4551-953f-7f78ebdc401d"
      },
      "execution_count": 3,
      "outputs": [
        {
          "output_type": "stream",
          "name": "stdout",
          "text": [
            "안녕하세요.\n"
          ]
        }
      ]
    },
    {
      "cell_type": "code",
      "source": [
        "class Person:\n",
        "  def __init__(self, name, age, address):\n",
        "    self.hello = '안녕하새요'\n",
        "    self.name = name\n",
        "    self.age = age\n",
        "    self.address = address\n",
        "\n",
        "  def greeting(self):\n",
        "      print('{0} 저는 {1}입니다.'.format(self.hello, self.name))\n",
        "\n",
        "maria = Person('마리아', 20, '서울시 서초구 반포동')\n",
        "maria.greeting()\n",
        "\n",
        "print('이름:', maria.name)\n",
        "print('나이:', maria.age)\n",
        "print('주소:', maria.address)"
      ],
      "metadata": {
        "colab": {
          "base_uri": "https://localhost:8080/"
        },
        "id": "BqWNrVhM4P3X",
        "outputId": "9bdda255-4326-40cc-94d6-9b36b8d427cf"
      },
      "execution_count": 6,
      "outputs": [
        {
          "output_type": "stream",
          "name": "stdout",
          "text": [
            "안녕하새요 저는 마리아입니다.\n",
            "이름: 마리아\n",
            "나이: 20\n",
            "주소: 서울시 서초구 반포동\n"
          ]
        }
      ]
    },
    {
      "cell_type": "code",
      "source": [
        "class Person:\n",
        "  def __init__(self, name, age, address, wallet):\n",
        "    self.name = name\n",
        "    self.age = age\n",
        "    self.address = address\n",
        "    self.__wallet = wallet\n",
        "\n",
        "  def pay(self, amount):\n",
        "    if amount > self.__wallet:\n",
        "      print('잔액 부족')\n",
        "      return\n",
        "    self.__wallet-=amount\n",
        "    print('이제 {0}원 남았네요.'.format(self.__wallet))\n",
        "\n",
        "maria = Person('마리아', 20, '서울시 서초구 반포동', 10000)\n",
        "maria.pay(30000)"
      ],
      "metadata": {
        "colab": {
          "base_uri": "https://localhost:8080/"
        },
        "id": "_C2kYsgX4tr-",
        "outputId": "65fc012a-2a49-4a70-97a0-111022f6458e"
      },
      "execution_count": 4,
      "outputs": [
        {
          "output_type": "stream",
          "name": "stdout",
          "text": [
            "잔액 부족\n"
          ]
        }
      ]
    },
    {
      "cell_type": "code",
      "source": [
        "class Annie:\n",
        "  def __init__(self, health, mana, ability_power):\n",
        "    self.health = health\n",
        "    self.mana = mana\n",
        "    self.ability_power = ability_power\n",
        "\n",
        "  def tibbers(self):\n",
        "    print('티버: 피해량 {0}'.format(self.ability_power*0.65+400))\n",
        "\n",
        "health, mana, ability_power = map(float, input().split())\n",
        " \n",
        "x = Annie(health=health, mana=mana, ability_power=ability_power)\n",
        "x.tibbers()"
      ],
      "metadata": {
        "colab": {
          "base_uri": "https://localhost:8080/"
        },
        "id": "jKYv8aBEWX0r",
        "outputId": "6a8c48b3-9b29-4455-b11c-81d3a31001a5"
      },
      "execution_count": 6,
      "outputs": [
        {
          "output_type": "stream",
          "name": "stdout",
          "text": [
            "511.68 334.0 298\n",
            "티버: 피해량 593.7\n"
          ]
        }
      ]
    }
  ]
}