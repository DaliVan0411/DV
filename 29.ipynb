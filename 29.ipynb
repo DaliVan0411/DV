{
  "nbformat": 4,
  "nbformat_minor": 0,
  "metadata": {
    "colab": {
      "name": "29",
      "provenance": [],
      "collapsed_sections": [],
      "authorship_tag": "ABX9TyO9owfxQiZyg08ZeCY/LqRi",
      "include_colab_link": true
    },
    "kernelspec": {
      "name": "python3",
      "display_name": "Python 3"
    },
    "language_info": {
      "name": "python"
    }
  },
  "cells": [
    {
      "cell_type": "markdown",
      "metadata": {
        "id": "view-in-github",
        "colab_type": "text"
      },
      "source": [
        "<a href=\"https://colab.research.google.com/github/DaliVan0411/DV/blob/main/29.ipynb\" target=\"_parent\"><img src=\"https://colab.research.google.com/assets/colab-badge.svg\" alt=\"Open In Colab\"/></a>"
      ]
    },
    {
      "cell_type": "code",
      "execution_count": 1,
      "metadata": {
        "id": "U0zAdNnkPCT0"
      },
      "outputs": [],
      "source": [
        "def hello():\n",
        "  print('Hello, world!')"
      ]
    },
    {
      "cell_type": "code",
      "source": [
        "hello()"
      ],
      "metadata": {
        "colab": {
          "base_uri": "https://localhost:8080/"
        },
        "id": "C9FS8THjm5yf",
        "outputId": "48f0dba4-ae38-4f28-8447-b5d88e8e9d29"
      },
      "execution_count": 2,
      "outputs": [
        {
          "output_type": "stream",
          "name": "stdout",
          "text": [
            "Hello, world!\n"
          ]
        }
      ]
    },
    {
      "cell_type": "code",
      "source": [
        "def add(a, b):\n",
        "  print(a+b)"
      ],
      "metadata": {
        "id": "lortCwPnm5wK"
      },
      "execution_count": 3,
      "outputs": []
    },
    {
      "cell_type": "code",
      "source": [
        "add(10, 20)"
      ],
      "metadata": {
        "colab": {
          "base_uri": "https://localhost:8080/"
        },
        "id": "Te0TEbZ8m5t_",
        "outputId": "e9f0fcbf-48b6-478a-9bfb-447c3f4fc036"
      },
      "execution_count": 6,
      "outputs": [
        {
          "output_type": "stream",
          "name": "stdout",
          "text": [
            "30\n"
          ]
        }
      ]
    },
    {
      "cell_type": "code",
      "source": [
        "def add(a, b):\n",
        "  return a + b\n",
        "x = add(10 ,20)\n",
        "print(x)\n",
        "print(add(10, 20))"
      ],
      "metadata": {
        "colab": {
          "base_uri": "https://localhost:8080/"
        },
        "id": "2K_vATwRm5r8",
        "outputId": "4b10e3aa-65e1-42c2-a871-1099edc45633"
      },
      "execution_count": 14,
      "outputs": [
        {
          "output_type": "stream",
          "name": "stdout",
          "text": [
            "30\n",
            "30\n"
          ]
        }
      ]
    },
    {
      "cell_type": "code",
      "source": [
        "def one():\n",
        "  return 1\n",
        "x = one()\n",
        "print(x)"
      ],
      "metadata": {
        "colab": {
          "base_uri": "https://localhost:8080/"
        },
        "id": "mx1jRXtmm5ll",
        "outputId": "7257463a-9340-4e4f-924c-841599882fac"
      },
      "execution_count": 15,
      "outputs": [
        {
          "output_type": "stream",
          "name": "stdout",
          "text": [
            "1\n"
          ]
        }
      ]
    },
    {
      "cell_type": "code",
      "source": [
        "def not_ten(a):\n",
        "  if a == 10:\n",
        "    return \n",
        "  print(a, '입니다',sep='')"
      ],
      "metadata": {
        "id": "ndMPx0tot6Wa"
      },
      "execution_count": 20,
      "outputs": []
    },
    {
      "cell_type": "code",
      "source": [
        "not_ten(5)"
      ],
      "metadata": {
        "colab": {
          "base_uri": "https://localhost:8080/"
        },
        "id": "-XGuNMFOt6UP",
        "outputId": "f0db9911-82eb-4208-a565-3fac7f858e25"
      },
      "execution_count": 23,
      "outputs": [
        {
          "output_type": "stream",
          "name": "stdout",
          "text": [
            "5입니다\n"
          ]
        }
      ]
    },
    {
      "cell_type": "code",
      "source": [
        "not_ten(10)"
      ],
      "metadata": {
        "id": "ajCoJHJst6R2"
      },
      "execution_count": 24,
      "outputs": []
    },
    {
      "cell_type": "code",
      "source": [
        "def add_sub(a, b):\n",
        "  return a+b, a-b"
      ],
      "metadata": {
        "id": "L8JLPGIxxjkr"
      },
      "execution_count": 25,
      "outputs": []
    },
    {
      "cell_type": "code",
      "source": [
        "x, y = add_sub(10, 20)\n",
        "print(x)\n",
        "print(y)"
      ],
      "metadata": {
        "colab": {
          "base_uri": "https://localhost:8080/"
        },
        "id": "NZZTb18kxjif",
        "outputId": "fa08a332-19a4-430d-9c01-db285c58f2af"
      },
      "execution_count": 27,
      "outputs": [
        {
          "output_type": "stream",
          "name": "stdout",
          "text": [
            "30\n",
            "-10\n"
          ]
        }
      ]
    },
    {
      "cell_type": "code",
      "source": [
        "x = add_sub(10, 20)\n",
        "print(x)"
      ],
      "metadata": {
        "colab": {
          "base_uri": "https://localhost:8080/"
        },
        "id": "0gkZZLyPxjgP",
        "outputId": "ea485295-a839-44f3-def9-68819dd98ddb"
      },
      "execution_count": 28,
      "outputs": [
        {
          "output_type": "stream",
          "name": "stdout",
          "text": [
            "(30, -10)\n"
          ]
        }
      ]
    },
    {
      "cell_type": "code",
      "source": [
        "def mul(a, b):\n",
        "  c = a*b\n",
        "  return c\n",
        "\n",
        "def add(a, b):\n",
        "  c = a+b\n",
        "  print(c)\n",
        "  d = mul(a, b)\n",
        "  print(d)\n",
        "x = 10\n",
        "y = 20\n",
        "add(x, y)"
      ],
      "metadata": {
        "colab": {
          "base_uri": "https://localhost:8080/"
        },
        "id": "0rX0-0MD7RTv",
        "outputId": "e85444eb-f08b-4f02-c6d3-e61afd67d217"
      },
      "execution_count": 29,
      "outputs": [
        {
          "output_type": "stream",
          "name": "stdout",
          "text": [
            "30\n",
            "200\n"
          ]
        }
      ]
    }
  ]
}