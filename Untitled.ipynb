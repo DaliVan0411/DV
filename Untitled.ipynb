{
  "nbformat": 4,
  "nbformat_minor": 0,
  "metadata": {
    "colab": {
      "name": "Untitled",
      "provenance": [],
      "collapsed_sections": [],
      "authorship_tag": "ABX9TyPj8iEeGWe/wusAgIIZgK/Q",
      "include_colab_link": true
    },
    "kernelspec": {
      "name": "python3",
      "display_name": "Python 3"
    },
    "language_info": {
      "name": "python"
    }
  },
  "cells": [
    {
      "cell_type": "markdown",
      "metadata": {
        "id": "view-in-github",
        "colab_type": "text"
      },
      "source": [
        "<a href=\"https://colab.research.google.com/github/DaliVan0411/DV/blob/main/Untitled.ipynb\" target=\"_parent\"><img src=\"https://colab.research.google.com/assets/colab-badge.svg\" alt=\"Open In Colab\"/></a>"
      ]
    },
    {
      "cell_type": "code",
      "source": [
        "print(0 or 'Python')"
      ],
      "metadata": {
        "colab": {
          "base_uri": "https://localhost:8080/"
        },
        "id": "JVaAnpKDsgBs",
        "outputId": "f052a526-9bb6-4271-ed52-b7572b300dab"
      },
      "execution_count": null,
      "outputs": [
        {
          "output_type": "stream",
          "name": "stdout",
          "text": [
            "Python\n"
          ]
        }
      ]
    },
    {
      "cell_type": "code",
      "source": [
        "print(False or 'Python')"
      ],
      "metadata": {
        "colab": {
          "base_uri": "https://localhost:8080/"
        },
        "id": "-fl3YSd_sf7G",
        "outputId": "9b387889-32d5-4805-8adf-857759c2ae9d"
      },
      "execution_count": null,
      "outputs": [
        {
          "output_type": "stream",
          "name": "stdout",
          "text": [
            "Python\n"
          ]
        }
      ]
    },
    {
      "cell_type": "code",
      "source": [
        "print('Python' or True)"
      ],
      "metadata": {
        "colab": {
          "base_uri": "https://localhost:8080/"
        },
        "id": "0DoTmStqsT6-",
        "outputId": "5206f9c7-5aeb-42e3-8ed5-193766cbb3ce"
      },
      "execution_count": null,
      "outputs": [
        {
          "output_type": "stream",
          "name": "stdout",
          "text": [
            "Python\n"
          ]
        }
      ]
    },
    {
      "cell_type": "code",
      "source": [
        "print(True or 'Python')"
      ],
      "metadata": {
        "colab": {
          "base_uri": "https://localhost:8080/"
        },
        "id": "26FO81X6sT0G",
        "outputId": "db77f6db-0006-4684-c14f-277fdb02a262"
      },
      "execution_count": null,
      "outputs": [
        {
          "output_type": "stream",
          "name": "stdout",
          "text": [
            "True\n"
          ]
        }
      ]
    },
    {
      "cell_type": "code",
      "source": [
        "print('Python' and False)"
      ],
      "metadata": {
        "colab": {
          "base_uri": "https://localhost:8080/"
        },
        "id": "XmTKRNbbqruQ",
        "outputId": "0d6e3adb-7486-4df0-cc69-b6fc1d0d72a6"
      },
      "execution_count": null,
      "outputs": [
        {
          "output_type": "stream",
          "name": "stdout",
          "text": [
            "False\n"
          ]
        }
      ]
    },
    {
      "cell_type": "code",
      "source": [
        "print('Python'and True)"
      ],
      "metadata": {
        "colab": {
          "base_uri": "https://localhost:8080/"
        },
        "id": "_15Qb6UvqrsG",
        "outputId": "7700905a-c37f-42d3-d302-b3b90c8d3e49"
      },
      "execution_count": null,
      "outputs": [
        {
          "output_type": "stream",
          "name": "stdout",
          "text": [
            "True\n"
          ]
        }
      ]
    },
    {
      "cell_type": "markdown",
      "source": [
        "Python에서 논리 연산자는 마지막으로 단락 평가를 실시한 값을 그대로 반환함. 논리 연산자가 무조건 불을 반환하는 것은 아님."
      ],
      "metadata": {
        "id": "f1I1sB9Xrkwv"
      }
    },
    {
      "cell_type": "code",
      "source": [
        "print(True and 'Python')"
      ],
      "metadata": {
        "colab": {
          "base_uri": "https://localhost:8080/"
        },
        "id": "5LKlCvyRqrpl",
        "outputId": "cb955a13-852d-47a8-ca06-ff6b8f7b30dc"
      },
      "execution_count": null,
      "outputs": [
        {
          "output_type": "stream",
          "name": "stdout",
          "text": [
            "Python\n"
          ]
        }
      ]
    },
    {
      "cell_type": "markdown",
      "source": [
        "단락평가 : 첫 번째 값만으로 결과가 확실할 때 두 번째 값은 확인하지 않는 방법"
      ],
      "metadata": {
        "id": "H64k3TMkrGa6"
      }
    },
    {
      "cell_type": "code",
      "source": [
        "print(bool(''))"
      ],
      "metadata": {
        "colab": {
          "base_uri": "https://localhost:8080/"
        },
        "id": "Yieud-HHqaE0",
        "outputId": "04d954f4-69ac-47c5-bad2-4b4b39d7ae30"
      },
      "execution_count": null,
      "outputs": [
        {
          "output_type": "stream",
          "name": "stdout",
          "text": [
            "False\n"
          ]
        }
      ]
    },
    {
      "cell_type": "code",
      "source": [
        "print(bool('Python'))"
      ],
      "metadata": {
        "colab": {
          "base_uri": "https://localhost:8080/"
        },
        "id": "XGivc-xDqaC0",
        "outputId": "7573fb93-8694-4f04-fe48-3b8c7e72a923"
      },
      "execution_count": null,
      "outputs": [
        {
          "output_type": "stream",
          "name": "stdout",
          "text": [
            "True\n"
          ]
        }
      ]
    },
    {
      "cell_type": "code",
      "source": [
        "print(bool(0))"
      ],
      "metadata": {
        "colab": {
          "base_uri": "https://localhost:8080/"
        },
        "id": "5stwyYG1qaAm",
        "outputId": "9baa0f07-aea7-46d3-8175-a9db14522e49"
      },
      "execution_count": null,
      "outputs": [
        {
          "output_type": "stream",
          "name": "stdout",
          "text": [
            "False\n"
          ]
        }
      ]
    },
    {
      "cell_type": "code",
      "source": [
        "print(bool(1))"
      ],
      "metadata": {
        "colab": {
          "base_uri": "https://localhost:8080/"
        },
        "id": "83VgV5rGpgE7",
        "outputId": "fc737d28-68b3-414a-bf32-588ece2c7313"
      },
      "execution_count": null,
      "outputs": [
        {
          "output_type": "stream",
          "name": "stdout",
          "text": [
            "True\n"
          ]
        }
      ]
    },
    {
      "cell_type": "markdown",
      "source": [
        "정수 0, 실수 0.0이외의 모든 숫자, 빈 문자열 '', \"\"를 제외한 모든 문자열은 True"
      ],
      "metadata": {
        "id": "2cMNJQ1eqKVd"
      }
    },
    {
      "cell_type": "markdown",
      "source": [
        "불(bool)"
      ],
      "metadata": {
        "id": "U6zO9JZnp4et"
      }
    },
    {
      "cell_type": "markdown",
      "source": [
        "."
      ],
      "metadata": {
        "id": "ljyfQ7GWqIAu"
      }
    },
    {
      "cell_type": "code",
      "source": [
        "print(not 1 is 1.0)"
      ],
      "metadata": {
        "colab": {
          "base_uri": "https://localhost:8080/"
        },
        "id": "VY9piviPpgCl",
        "outputId": "393b3f5a-6662-468a-fe04-ef4495a22dbf"
      },
      "execution_count": null,
      "outputs": [
        {
          "output_type": "stream",
          "name": "stdout",
          "text": [
            "True\n"
          ]
        }
      ]
    },
    {
      "cell_type": "code",
      "source": [
        "print(not 10 > 5)"
      ],
      "metadata": {
        "colab": {
          "base_uri": "https://localhost:8080/"
        },
        "id": "io9UdnoQogF1",
        "outputId": "b3be544e-dd11-4932-9e02-f1ae10b3a98f"
      },
      "execution_count": null,
      "outputs": [
        {
          "output_type": "stream",
          "name": "stdout",
          "text": [
            "False\n"
          ]
        }
      ]
    },
    {
      "cell_type": "code",
      "source": [
        "print(10 > 5 or 10 < 3 )"
      ],
      "metadata": {
        "colab": {
          "base_uri": "https://localhost:8080/"
        },
        "id": "y0RgPl07ogD6",
        "outputId": "81bf74bd-de5e-4607-cf4a-a162a1614c59"
      },
      "execution_count": null,
      "outputs": [
        {
          "output_type": "stream",
          "name": "stdout",
          "text": [
            "True\n"
          ]
        }
      ]
    },
    {
      "cell_type": "code",
      "source": [
        "print(10 == 10 and 10 != 5)"
      ],
      "metadata": {
        "colab": {
          "base_uri": "https://localhost:8080/"
        },
        "id": "pPAzdDItogB1",
        "outputId": "4f44becb-7663-4033-91a5-d5b35cd73a83"
      },
      "execution_count": null,
      "outputs": [
        {
          "output_type": "stream",
          "name": "stdout",
          "text": [
            "True\n"
          ]
        }
      ]
    },
    {
      "cell_type": "markdown",
      "source": [
        "논리 연산자와 비교 연산자 함께 사용"
      ],
      "metadata": {
        "id": "BYMR-HnepMT8"
      }
    },
    {
      "cell_type": "code",
      "source": [
        "print(not True and False or not False)"
      ],
      "metadata": {
        "colab": {
          "base_uri": "https://localhost:8080/"
        },
        "id": "d-9cGnQJm8y9",
        "outputId": "4239f094-e7c1-4682-9e9d-8454cdff5001"
      },
      "execution_count": null,
      "outputs": [
        {
          "output_type": "stream",
          "name": "stdout",
          "text": [
            "True\n"
          ]
        }
      ]
    },
    {
      "cell_type": "markdown",
      "source": [
        "not은 논릿값을 뒤집음. and, or, not 논리 연산자가 함께 있을 경우 not, and, or 순으로 판단함"
      ],
      "metadata": {
        "id": "EzU2mvZGobyl"
      }
    },
    {
      "cell_type": "code",
      "source": [
        "print(not False)"
      ],
      "metadata": {
        "colab": {
          "base_uri": "https://localhost:8080/"
        },
        "id": "kPEvFWENm8xJ",
        "outputId": "9b59977b-5822-44dd-a484-14bea1050790"
      },
      "execution_count": null,
      "outputs": [
        {
          "output_type": "stream",
          "name": "stdout",
          "text": [
            "True\n"
          ]
        }
      ]
    },
    {
      "cell_type": "code",
      "source": [
        "print(not True)"
      ],
      "metadata": {
        "colab": {
          "base_uri": "https://localhost:8080/"
        },
        "id": "HIH7rc8Dm8u3",
        "outputId": "763b267b-7f83-4eb6-cd62-bf13f807f818"
      },
      "execution_count": null,
      "outputs": [
        {
          "output_type": "stream",
          "name": "stdout",
          "text": [
            "False\n"
          ]
        }
      ]
    },
    {
      "cell_type": "markdown",
      "source": [
        "or는 두 값 중 하나라도 True이면 True가 도출"
      ],
      "metadata": {
        "id": "X8jL3flYoG4t"
      }
    },
    {
      "cell_type": "code",
      "source": [
        "print(False or False)"
      ],
      "metadata": {
        "colab": {
          "base_uri": "https://localhost:8080/"
        },
        "id": "1j2SQV14m8sc",
        "outputId": "7173a561-1666-4432-e6d3-8caa2625c8ed"
      },
      "execution_count": null,
      "outputs": [
        {
          "output_type": "stream",
          "name": "stdout",
          "text": [
            "False\n"
          ]
        }
      ]
    },
    {
      "cell_type": "code",
      "source": [
        "print(True or False)"
      ],
      "metadata": {
        "colab": {
          "base_uri": "https://localhost:8080/"
        },
        "id": "XopSWvPAm8qN",
        "outputId": "7c39815d-c8de-4943-f200-5f0f44d12653"
      },
      "execution_count": null,
      "outputs": [
        {
          "output_type": "stream",
          "name": "stdout",
          "text": [
            "True\n"
          ]
        }
      ]
    },
    {
      "cell_type": "code",
      "source": [
        "print(True or True)"
      ],
      "metadata": {
        "colab": {
          "base_uri": "https://localhost:8080/"
        },
        "id": "OoiIYY4Rjnxa",
        "outputId": "8aea50d9-9f26-460b-f0c1-332b3c4357c3"
      },
      "execution_count": null,
      "outputs": [
        {
          "output_type": "stream",
          "name": "stdout",
          "text": [
            "True\n"
          ]
        }
      ]
    },
    {
      "cell_type": "markdown",
      "source": [
        "and는 두 값이 모두 True일때만 True가 도출"
      ],
      "metadata": {
        "id": "QTNjnEGxme44"
      }
    },
    {
      "cell_type": "code",
      "source": [
        "print(False and False)"
      ],
      "metadata": {
        "colab": {
          "base_uri": "https://localhost:8080/"
        },
        "id": "dJgBgOz4n-KS",
        "outputId": "a9828af9-47e3-4838-e393-a2b5320863c4"
      },
      "execution_count": null,
      "outputs": [
        {
          "output_type": "stream",
          "name": "stdout",
          "text": [
            "False\n"
          ]
        }
      ]
    },
    {
      "cell_type": "code",
      "source": [
        "print(True and True)"
      ],
      "metadata": {
        "colab": {
          "base_uri": "https://localhost:8080/"
        },
        "id": "chWKQb0UjnvH",
        "outputId": "1eff71a9-fb33-470b-d828-579482cbd18f"
      },
      "execution_count": null,
      "outputs": [
        {
          "output_type": "stream",
          "name": "stdout",
          "text": [
            "True\n"
          ]
        }
      ]
    },
    {
      "cell_type": "code",
      "source": [
        "print(True and False)"
      ],
      "metadata": {
        "colab": {
          "base_uri": "https://localhost:8080/"
        },
        "id": "upvg4uJlmxy0",
        "outputId": "a5187d87-0a22-4e0e-a720-4ac9dba74aca"
      },
      "execution_count": null,
      "outputs": [
        {
          "output_type": "stream",
          "name": "stdout",
          "text": [
            "False\n"
          ]
        }
      ]
    },
    {
      "cell_type": "markdown",
      "source": [
        "논리연산자"
      ],
      "metadata": {
        "id": "cKhtvN5AnBRV"
      }
    },
    {
      "cell_type": "markdown",
      "source": [
        "."
      ],
      "metadata": {
        "id": "T0NEa53LqFBD"
      }
    },
    {
      "cell_type": "markdown",
      "source": [
        "이렇듯 변수 a가 있는 상태에서 다른 값을 할당하면 메모리 주소가 달라질 수 있기 때문에 값 비교에 is를 쓰면 안됨"
      ],
      "metadata": {
        "id": "5t74gWhAlRLJ"
      }
    },
    {
      "cell_type": "code",
      "source": [
        "a=-5\n",
        "print(a is -5)\n",
        "a=-6\n",
        "print(a is -6)"
      ],
      "metadata": {
        "colab": {
          "base_uri": "https://localhost:8080/"
        },
        "id": "YdAAiBVojnsF",
        "outputId": "02137e6e-b2a9-41d7-db10-395e442efc39"
      },
      "execution_count": null,
      "outputs": [
        {
          "output_type": "stream",
          "name": "stdout",
          "text": [
            "True\n",
            "False\n"
          ]
        }
      ]
    },
    {
      "cell_type": "markdown",
      "source": [
        "두 객체의 고유한 값이 다르므로 서로 다른 객체. 그래서 1과 1.0을 is로비교하면 False가 나옴"
      ],
      "metadata": {
        "id": "Vj-0bgMcj-is"
      }
    },
    {
      "cell_type": "code",
      "source": [
        "print(id(1.0))"
      ],
      "metadata": {
        "colab": {
          "base_uri": "https://localhost:8080/"
        },
        "id": "WzPDODyLjnld",
        "outputId": "289f631f-8aa8-4e36-e1ee-8c1cb3253f36"
      },
      "execution_count": null,
      "outputs": [
        {
          "output_type": "stream",
          "name": "stdout",
          "text": [
            "139899459968112\n"
          ]
        }
      ]
    },
    {
      "cell_type": "code",
      "source": [
        "print(id(1))"
      ],
      "metadata": {
        "colab": {
          "base_uri": "https://localhost:8080/"
        },
        "id": "ymaIUYwYjnYX",
        "outputId": "5631fc73-295d-40f7-9b4b-275229ad6432"
      },
      "execution_count": null,
      "outputs": [
        {
          "output_type": "stream",
          "name": "stdout",
          "text": [
            "94159881157120\n"
          ]
        }
      ]
    },
    {
      "cell_type": "markdown",
      "source": [
        "정수 객체와 실수 객체가 서로 다른지 확인하려면 id 함수를 사용"
      ],
      "metadata": {
        "id": "4B2hqsGSjzgM"
      }
    },
    {
      "cell_type": "code",
      "source": [
        "print(1 is not 1.0)"
      ],
      "metadata": {
        "colab": {
          "base_uri": "https://localhost:8080/"
        },
        "id": "Of4M4sf1iEY-",
        "outputId": "9eb006ad-e912-4a5f-9205-ef562667f392"
      },
      "execution_count": null,
      "outputs": [
        {
          "output_type": "stream",
          "name": "stdout",
          "text": [
            "True\n"
          ]
        }
      ]
    },
    {
      "cell_type": "code",
      "source": [
        "print(1 is 1.0)"
      ],
      "metadata": {
        "colab": {
          "base_uri": "https://localhost:8080/"
        },
        "id": "c1eEWWD1iESN",
        "outputId": "fe7650e0-1f3b-4971-ba81-50c47512c2ec"
      },
      "execution_count": null,
      "outputs": [
        {
          "output_type": "stream",
          "name": "stdout",
          "text": [
            "False\n"
          ]
        }
      ]
    },
    {
      "cell_type": "code",
      "source": [
        "print(1==1.0)"
      ],
      "metadata": {
        "colab": {
          "base_uri": "https://localhost:8080/"
        },
        "id": "z3nwp6TEiEKO",
        "outputId": "36da9eb3-c842-4dbf-e613-201ae4a807a7"
      },
      "execution_count": null,
      "outputs": [
        {
          "output_type": "stream",
          "name": "stdout",
          "text": [
            "True\n"
          ]
        }
      ]
    },
    {
      "cell_type": "markdown",
      "source": [
        "==, !=는 값 자체를 비교하고, is, is not은 객체를 비교"
      ],
      "metadata": {
        "id": "lMVUOhPbi9ap"
      }
    },
    {
      "cell_type": "code",
      "source": [
        "print(20>=10) #이상 이하 비교"
      ],
      "metadata": {
        "colab": {
          "base_uri": "https://localhost:8080/"
        },
        "id": "BYsJDR9ChuQB",
        "outputId": "dfda0a48-2ab7-4153-ab9f-c6dd1aed29ca"
      },
      "execution_count": null,
      "outputs": [
        {
          "output_type": "stream",
          "name": "stdout",
          "text": [
            "True\n"
          ]
        }
      ]
    },
    {
      "cell_type": "code",
      "source": [
        "print(10>20) #초과 미만 비교"
      ],
      "metadata": {
        "colab": {
          "base_uri": "https://localhost:8080/"
        },
        "id": "0X7xNqfIhuJx",
        "outputId": "f553f465-1d7f-4151-c893-73c78634e3e9"
      },
      "execution_count": null,
      "outputs": [
        {
          "output_type": "stream",
          "name": "stdout",
          "text": [
            "False\n"
          ]
        }
      ]
    },
    {
      "cell_type": "code",
      "source": [
        "print('Python!'!='pytjon')"
      ],
      "metadata": {
        "colab": {
          "base_uri": "https://localhost:8080/"
        },
        "id": "IJabpGgZhuEL",
        "outputId": "0391fa24-7897-4805-e4ba-fe045c1be119"
      },
      "execution_count": null,
      "outputs": [
        {
          "output_type": "stream",
          "name": "stdout",
          "text": [
            "True\n"
          ]
        }
      ]
    },
    {
      "cell_type": "code",
      "source": [
        "print('Python'=='python')"
      ],
      "metadata": {
        "colab": {
          "base_uri": "https://localhost:8080/"
        },
        "id": "YLnrR3G3huAc",
        "outputId": "be172543-0228-4aa9-a732-fb7e5ac5b6e9"
      },
      "execution_count": null,
      "outputs": [
        {
          "output_type": "stream",
          "name": "stdout",
          "text": [
            "False\n"
          ]
        }
      ]
    },
    {
      "cell_type": "code",
      "source": [
        "print(10!=1)"
      ],
      "metadata": {
        "colab": {
          "base_uri": "https://localhost:8080/"
        },
        "id": "_pwImdKshmQO",
        "outputId": "fec4cf34-d330-4c6a-c5a2-824b17195001"
      },
      "execution_count": null,
      "outputs": [
        {
          "output_type": "stream",
          "name": "stdout",
          "text": [
            "True\n"
          ]
        }
      ]
    },
    {
      "cell_type": "code",
      "source": [
        "print(10==10)"
      ],
      "metadata": {
        "colab": {
          "base_uri": "https://localhost:8080/"
        },
        "id": "8ZHpMn_GhYgX",
        "outputId": "0cbfad9c-b660-4029-8b0b-8a16a817e953"
      },
      "execution_count": null,
      "outputs": [
        {
          "output_type": "stream",
          "name": "stdout",
          "text": [
            "True\n"
          ]
        }
      ]
    },
    {
      "cell_type": "code",
      "source": [
        "print(3>1)"
      ],
      "metadata": {
        "colab": {
          "base_uri": "https://localhost:8080/"
        },
        "id": "w0Gmf4muhB55",
        "outputId": "8335d99b-5c25-48df-e806-229733f0a33b"
      },
      "execution_count": null,
      "outputs": [
        {
          "output_type": "stream",
          "name": "stdout",
          "text": [
            "True\n"
          ]
        }
      ]
    }
  ]
}