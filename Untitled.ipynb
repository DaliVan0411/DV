{
  "nbformat": 4,
  "nbformat_minor": 0,
  "metadata": {
    "colab": {
      "name": "Untitled",
      "provenance": [],
      "collapsed_sections": [],
      "authorship_tag": "ABX9TyNXI52ISoQc7oSfAzYDgF7/",
      "include_colab_link": true
    },
    "kernelspec": {
      "name": "python3",
      "display_name": "Python 3"
    },
    "language_info": {
      "name": "python"
    }
  },
  "cells": [
    {
      "cell_type": "markdown",
      "metadata": {
        "id": "view-in-github",
        "colab_type": "text"
      },
      "source": [
        "<a href=\"https://colab.research.google.com/github/DaliVan0411/DV/blob/main/Untitled.ipynb\" target=\"_parent\"><img src=\"https://colab.research.google.com/assets/colab-badge.svg\" alt=\"Open In Colab\"/></a>"
      ]
    },
    {
      "cell_type": "code",
      "execution_count": 1,
      "metadata": {
        "colab": {
          "base_uri": "https://localhost:8080/"
        },
        "id": "f4BntvaH-jon",
        "outputId": "7a13e5c3-9cfa-465e-a944-7cbe68b36f36"
      },
      "outputs": [
        {
          "output_type": "stream",
          "name": "stdout",
          "text": [
            "10입니다.\n"
          ]
        }
      ],
      "source": [
        "x = 10\n",
        "if x == 10:\n",
        "  print('10입니다.')"
      ]
    },
    {
      "cell_type": "code",
      "source": [
        "x=10\n",
        "if x==10:\n",
        "  pass"
      ],
      "metadata": {
        "id": "sg9OqpReEBwf"
      },
      "execution_count": 2,
      "outputs": []
    },
    {
      "cell_type": "code",
      "source": [
        "x = 15\n",
        " \n",
        "if x >= 10:\n",
        "     print('10 이상입니다.')\n",
        " \n",
        "     if x == 15:\n",
        "         print('15입니다.')\n",
        " \n",
        "     if x == 20:\n",
        "         print('20입니다.')"
      ],
      "metadata": {
        "colab": {
          "base_uri": "https://localhost:8080/"
        },
        "id": "5M2JWu0qEBuL",
        "outputId": "fa334b59-cd7a-4f5c-edbe-0acad298e4e9"
      },
      "execution_count": 4,
      "outputs": [
        {
          "output_type": "stream",
          "name": "stdout",
          "text": [
            "10 이상입니다.\n",
            "15입니다.\n"
          ]
        }
      ]
    },
    {
      "cell_type": "code",
      "source": [
        "x=int(input())\n",
        "if x==10:\n",
        "  print('x는 10입니다')\n",
        "if x==20:\n",
        "  print('x는 20입니다')"
      ],
      "metadata": {
        "colab": {
          "base_uri": "https://localhost:8080/"
        },
        "id": "xBQt4roOEBsB",
        "outputId": "3c903922-c02f-47b6-d84b-06c0fe76b698"
      },
      "execution_count": 5,
      "outputs": [
        {
          "output_type": "stream",
          "name": "stdout",
          "text": [
            "10\n",
            "x는 10입니다\n"
          ]
        }
      ]
    },
    {
      "cell_type": "code",
      "source": [
        "x=int(input())\n",
        "y=input()\n",
        "if y == 'Cash3000':\n",
        "  print(x-3000)\n",
        "if y == 'Cash5000':\n",
        "  print(x-5000)"
      ],
      "metadata": {
        "colab": {
          "base_uri": "https://localhost:8080/"
        },
        "id": "jl2NZAAtEBp8",
        "outputId": "7fff702a-4342-494b-a3bb-c1bcef74bb34"
      },
      "execution_count": 9,
      "outputs": [
        {
          "output_type": "stream",
          "name": "stdout",
          "text": [
            "27000\n",
            "Cash3000\n",
            "24000\n"
          ]
        }
      ]
    }
  ]
}