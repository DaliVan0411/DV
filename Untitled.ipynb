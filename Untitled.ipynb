{
  "nbformat": 4,
  "nbformat_minor": 0,
  "metadata": {
    "colab": {
      "name": "Untitled",
      "provenance": []
    },
    "kernelspec": {
      "name": "python3",
      "display_name": "Python 3"
    },
    "language_info": {
      "name": "python"
    }
  },
  "cells": [
    {
      "cell_type": "code",
      "execution_count": null,
      "metadata": {
        "id": "NAOXYn27WyAx",
        "colab": {
          "base_uri": "https://localhost:8080/"
        },
        "outputId": "1bc94864-c3c5-47e2-fa57-364bdc0a57ae"
      },
      "outputs": [
        {
          "output_type": "stream",
          "name": "stdout",
          "text": [
            "숫자 두개를 입력하세요: 10 20\n",
            "30\n"
          ]
        }
      ],
      "source": [
        "a, b = map(int, input('숫자 두개를 입력하세요: ').split())\n",
        "print(a+b)"
      ]
    }
  ]
}