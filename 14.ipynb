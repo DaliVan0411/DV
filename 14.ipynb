{
  "nbformat": 4,
  "nbformat_minor": 0,
  "metadata": {
    "colab": {
      "name": "14",
      "provenance": [],
      "collapsed_sections": [],
      "authorship_tag": "ABX9TyOhhfPsltZ5yz+oN7QYI1ZD",
      "include_colab_link": true
    },
    "kernelspec": {
      "name": "python3",
      "display_name": "Python 3"
    },
    "language_info": {
      "name": "python"
    }
  },
  "cells": [
    {
      "cell_type": "markdown",
      "metadata": {
        "id": "view-in-github",
        "colab_type": "text"
      },
      "source": [
        "<a href=\"https://colab.research.google.com/github/DaliVan0411/DV/blob/main/14.ipynb\" target=\"_parent\"><img src=\"https://colab.research.google.com/assets/colab-badge.svg\" alt=\"Open In Colab\"/></a>"
      ]
    },
    {
      "cell_type": "code",
      "execution_count": 2,
      "metadata": {
        "colab": {
          "base_uri": "https://localhost:8080/"
        },
        "id": "nVZqisQmGBy2",
        "outputId": "4bb45d31-2917-4d0d-ae86-f64adf1cc14f"
      },
      "outputs": [
        {
          "output_type": "stream",
          "name": "stdout",
          "text": [
            "10이 아닙니다\n"
          ]
        }
      ],
      "source": [
        "x=5\n",
        "if x==10:\n",
        "  print('10입니다')\n",
        "else:\n",
        "  print('10이 아닙니다')"
      ]
    },
    {
      "cell_type": "code",
      "source": [
        "x=5\n",
        "if x==5:\n",
        "  y=x\n",
        "else:\n",
        "  y=0\n",
        "print(y)"
      ],
      "metadata": {
        "colab": {
          "base_uri": "https://localhost:8080/"
        },
        "id": "a5fLSyXClKI1",
        "outputId": "1912a287-b9ef-4f5f-c283-608500dd05f2"
      },
      "execution_count": 3,
      "outputs": [
        {
          "output_type": "stream",
          "name": "stdout",
          "text": [
            "5\n"
          ]
        }
      ]
    },
    {
      "cell_type": "code",
      "source": [
        "x=5\n",
        "y=x if x==10 else 0\n",
        "print(y)"
      ],
      "metadata": {
        "colab": {
          "base_uri": "https://localhost:8080/"
        },
        "id": "KaxjqVFjlKGm",
        "outputId": "63c94be8-3b21-4cae-c5fc-d7ec21b15f59"
      },
      "execution_count": 4,
      "outputs": [
        {
          "output_type": "stream",
          "name": "stdout",
          "text": [
            "0\n"
          ]
        }
      ]
    },
    {
      "cell_type": "code",
      "source": [
        "x=10\n",
        "y=20\n",
        "if x==10 and y==20:\n",
        "  print('참')\n",
        "else:\n",
        "  print('거짓')"
      ],
      "metadata": {
        "colab": {
          "base_uri": "https://localhost:8080/"
        },
        "id": "QzsZmEjMlKEZ",
        "outputId": "5c6c8b63-e0e1-4909-dc5b-82285f19186e"
      },
      "execution_count": 5,
      "outputs": [
        {
          "output_type": "stream",
          "name": "stdout",
          "text": [
            "참\n"
          ]
        }
      ]
    },
    {
      "cell_type": "code",
      "source": [
        "if x>0:\n",
        "  if x<20:\n",
        "    print('20보다 작은 양수입니다')"
      ],
      "metadata": {
        "colab": {
          "base_uri": "https://localhost:8080/"
        },
        "id": "LWW0d9ONlKCa",
        "outputId": "d310678a-2d17-4cbf-b2eb-502606c20d52"
      },
      "execution_count": 6,
      "outputs": [
        {
          "output_type": "stream",
          "name": "stdout",
          "text": [
            "20보다 작은 양수입니다\n"
          ]
        }
      ]
    },
    {
      "cell_type": "code",
      "source": [
        "if x>0 and x<20:\n",
        "  print('20보다 작은 양수입니다')"
      ],
      "metadata": {
        "colab": {
          "base_uri": "https://localhost:8080/"
        },
        "id": "QGI0q7iBnwup",
        "outputId": "b0079c64-ba20-4c32-c384-52e9da6a76f5"
      },
      "execution_count": 7,
      "outputs": [
        {
          "output_type": "stream",
          "name": "stdout",
          "text": [
            "20보다 작은 양수입니다\n"
          ]
        }
      ]
    },
    {
      "cell_type": "code",
      "source": [
        "if 0<x<20:\n",
        "  print('20보다 작은 양수입니다')"
      ],
      "metadata": {
        "colab": {
          "base_uri": "https://localhost:8080/"
        },
        "id": "B-MM5_0gnwsz",
        "outputId": "a6b2e4d3-1852-4f72-c0f5-850b810e7109"
      },
      "execution_count": 8,
      "outputs": [
        {
          "output_type": "stream",
          "name": "stdout",
          "text": [
            "20보다 작은 양수입니다\n"
          ]
        }
      ]
    },
    {
      "cell_type": "code",
      "source": [
        "x = 5\n",
        " \n",
        "if x % 2 == 0:\n",
        "    print('짝수')\n",
        "else:\n",
        "    print('홀수')"
      ],
      "metadata": {
        "colab": {
          "base_uri": "https://localhost:8080/"
        },
        "id": "aJn8nudRnwqz",
        "outputId": "ac156be0-c33b-4eb6-d531-fa3bef7e316c"
      },
      "execution_count": 23,
      "outputs": [
        {
          "output_type": "stream",
          "name": "stdout",
          "text": [
            "홀수\n"
          ]
        }
      ]
    },
    {
      "cell_type": "code",
      "source": [
        "korean, english, mathematics, science = map(int,input().split())\n",
        "if korean>100 or korean<0 or english>100 or english<0 or mathematics>100 or mathematics<0 or science>100 or science<0:\n",
        "  print('잘못된 점수')\n",
        "else:\n",
        "  if (korean+english+mathematics+science)/4 >= 80:\n",
        "    print('합격')\n",
        "  else: \n",
        "    print('불합격')"
      ],
      "metadata": {
        "colab": {
          "base_uri": "https://localhost:8080/"
        },
        "id": "gXdrHcUwpaB4",
        "outputId": "9e149cc4-7bcb-46fe-f096-bad54191ff5d"
      },
      "execution_count": 42,
      "outputs": [
        {
          "output_type": "stream",
          "name": "stdout",
          "text": [
            "80 80 80 80\n",
            "합격\n"
          ]
        }
      ]
    }
  ]
}