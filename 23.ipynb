{
  "nbformat": 4,
  "nbformat_minor": 0,
  "metadata": {
    "colab": {
      "name": "23",
      "provenance": [],
      "collapsed_sections": [],
      "authorship_tag": "ABX9TyP8lBb2OOyUb+QHf07ig8I4",
      "include_colab_link": true
    },
    "kernelspec": {
      "name": "python3",
      "display_name": "Python 3"
    },
    "language_info": {
      "name": "python"
    }
  },
  "cells": [
    {
      "cell_type": "markdown",
      "metadata": {
        "id": "view-in-github",
        "colab_type": "text"
      },
      "source": [
        "<a href=\"https://colab.research.google.com/github/DaliVan0411/DV/blob/main/23.ipynb\" target=\"_parent\"><img src=\"https://colab.research.google.com/assets/colab-badge.svg\" alt=\"Open In Colab\"/></a>"
      ]
    },
    {
      "cell_type": "code",
      "execution_count": 1,
      "metadata": {
        "colab": {
          "base_uri": "https://localhost:8080/"
        },
        "id": "8CIjWCJoueAd",
        "outputId": "baeb158c-09f1-4f4f-abf4-c8246829649a"
      },
      "outputs": [
        {
          "output_type": "stream",
          "name": "stdout",
          "text": [
            "[[10, 20], [30, 40], [50, 60]]\n"
          ]
        }
      ],
      "source": [
        "a = [[10, 20], [30, 40], [50, 60]]\n",
        "print(a)"
      ]
    },
    {
      "cell_type": "code",
      "source": [
        "a = [[10, 20],\n",
        "     [30, 40],\n",
        "     [50, 60]]\n",
        "print(a)"
      ],
      "metadata": {
        "colab": {
          "base_uri": "https://localhost:8080/"
        },
        "id": "YVBCOHo3wdGK",
        "outputId": "c4c63445-bbd8-4c42-fc05-3c34b61278df"
      },
      "execution_count": 3,
      "outputs": [
        {
          "output_type": "stream",
          "name": "stdout",
          "text": [
            "[[10, 20], [30, 40], [50, 60]]\n"
          ]
        }
      ]
    },
    {
      "cell_type": "code",
      "source": [
        "a = [[10, 20], [30, 40], [50, 60]]\n",
        "print(a[0] [0])"
      ],
      "metadata": {
        "colab": {
          "base_uri": "https://localhost:8080/"
        },
        "id": "-iqXPGMrwdD7",
        "outputId": "6059452a-573c-437b-c11a-daf3ef8119d8"
      },
      "execution_count": 4,
      "outputs": [
        {
          "output_type": "stream",
          "name": "stdout",
          "text": [
            "10\n"
          ]
        }
      ]
    },
    {
      "cell_type": "code",
      "source": [
        "a = []\n",
        "a.append([])\n",
        "a[0].append(10)\n",
        "a[0].append(20)\n",
        "a.append([])\n",
        "a[1].append(500)\n",
        "a[1].append(600)\n",
        "a[1].append(700)\n",
        "print(a)"
      ],
      "metadata": {
        "colab": {
          "base_uri": "https://localhost:8080/"
        },
        "id": "RaRMQVV4wdBv",
        "outputId": "a70086b9-6a86-4e8c-f107-7f5ab67bf8f2"
      },
      "execution_count": 5,
      "outputs": [
        {
          "output_type": "stream",
          "name": "stdout",
          "text": [
            "[[10, 20], [500, 600, 700]]\n"
          ]
        }
      ]
    },
    {
      "cell_type": "code",
      "source": [
        "a = [[10, 20], [30, 40], [50, 60]]\n",
        "from pprint import pprint\n",
        "pprint(a, indent=4, width=20)"
      ],
      "metadata": {
        "colab": {
          "base_uri": "https://localhost:8080/"
        },
        "id": "M7auQ23ywc_R",
        "outputId": "1566546c-7c7d-4e44-c121-15b1b5dd0c02"
      },
      "execution_count": 7,
      "outputs": [
        {
          "output_type": "stream",
          "name": "stdout",
          "text": [
            "[   [10, 20],\n",
            "    [30, 40],\n",
            "    [50, 60]]\n"
          ]
        }
      ]
    },
    {
      "cell_type": "code",
      "source": [
        "a = [[10, 20], [30, 40], [50, 60]]\n",
        "for x, y in a:\n",
        "  print(x,y)"
      ],
      "metadata": {
        "colab": {
          "base_uri": "https://localhost:8080/"
        },
        "id": "BQ10Lwlkwc8s",
        "outputId": "9983e5bb-401c-48ce-9183-48f43135022a"
      },
      "execution_count": 8,
      "outputs": [
        {
          "output_type": "stream",
          "name": "stdout",
          "text": [
            "10 20\n",
            "30 40\n",
            "50 60\n"
          ]
        }
      ]
    },
    {
      "cell_type": "code",
      "source": [
        "a = [[10, 20], [30, 40], [50, 60]]\n",
        "for i in a:\n",
        "  for j in i:\n",
        "    print(j,end=' ')\n",
        "  print()"
      ],
      "metadata": {
        "colab": {
          "base_uri": "https://localhost:8080/"
        },
        "id": "2Yrhy57Awc6U",
        "outputId": "02d2aba1-8111-48ed-d5fa-9ed340e928d2"
      },
      "execution_count": 16,
      "outputs": [
        {
          "output_type": "stream",
          "name": "stdout",
          "text": [
            "10 20 \n",
            "30 40 \n",
            "50 60 \n"
          ]
        }
      ]
    },
    {
      "cell_type": "code",
      "source": [
        "a = [[10, 20], [30, 40], [50, 60]]\n",
        "for i in range(len(a)):\n",
        "    for j in range(len(a[i])):\n",
        "        print(a[i][j], end=' ')\n",
        "    print()"
      ],
      "metadata": {
        "id": "dUb8Y8w20fw7"
      },
      "execution_count": null,
      "outputs": []
    },
    {
      "cell_type": "code",
      "source": [
        "a = [[10, 20], [30, 40], [50, 60]]\n",
        "i=0\n",
        "while i<len(a):\n",
        "  x,y= a[i]\n",
        "  print(x,y)\n",
        "  i+1=i"
      ],
      "metadata": {
        "id": "hE1ZxETG0ful"
      },
      "execution_count": null,
      "outputs": []
    },
    {
      "cell_type": "code",
      "source": [
        "a=[[10,20],[30,40],[50,60]]\n",
        "\n",
        "i=0\n",
        "while i < len(a):\n",
        "  j=0\n",
        "  while j < len(a[i]):\n",
        "    print(a[i][j], end=' ')\n",
        "    j+=1\n",
        "  print()\n",
        "  i+=1"
      ],
      "metadata": {
        "colab": {
          "base_uri": "https://localhost:8080/"
        },
        "id": "ilCEc61l0fsg",
        "outputId": "649e74ee-4ab7-43f8-b27b-30aa2418cd38"
      },
      "execution_count": 3,
      "outputs": [
        {
          "output_type": "stream",
          "name": "stdout",
          "text": [
            "10 20 \n",
            "30 40 \n",
            "50 60 \n"
          ]
        }
      ]
    },
    {
      "cell_type": "code",
      "source": [
        "a=[]\n",
        "for i in range(10):\n",
        "  a.append(0)\n",
        "print(a)"
      ],
      "metadata": {
        "id": "-nfW5qLP0fqM"
      },
      "execution_count": null,
      "outputs": []
    },
    {
      "cell_type": "code",
      "source": [
        "a=[]\n",
        "\n",
        "for i in range(3):\n",
        "  line = []\n",
        "  for j in range(2):\n",
        "    line.append(0)\n",
        "  a.append(line)\n",
        "print(a)"
      ],
      "metadata": {
        "colab": {
          "base_uri": "https://localhost:8080/"
        },
        "id": "QYWcWhaC4M7d",
        "outputId": "fa98394e-44fa-4ca0-b725-e5524771c7bc"
      },
      "execution_count": 4,
      "outputs": [
        {
          "output_type": "stream",
          "name": "stdout",
          "text": [
            "[[0, 0], [0, 0], [0, 0]]\n"
          ]
        }
      ]
    },
    {
      "cell_type": "code",
      "source": [
        "a = [[0 for j in range(2)] for i in range(3)]\n",
        "print(a)"
      ],
      "metadata": {
        "colab": {
          "base_uri": "https://localhost:8080/"
        },
        "id": "0kREP3Rb4M5F",
        "outputId": "7d5f6d81-1e69-437e-c6b9-288bdc5864ca"
      },
      "execution_count": 5,
      "outputs": [
        {
          "output_type": "stream",
          "name": "stdout",
          "text": [
            "[[0, 0], [0, 0], [0, 0]]\n"
          ]
        }
      ]
    },
    {
      "cell_type": "code",
      "source": [
        "a=[[0]*2 for i in range(3)]\n",
        "print(a)"
      ],
      "metadata": {
        "colab": {
          "base_uri": "https://localhost:8080/"
        },
        "id": "9_QcP3qH4M2s",
        "outputId": "2b744313-c546-44fd-b105-8b94c645373e"
      },
      "execution_count": 6,
      "outputs": [
        {
          "output_type": "stream",
          "name": "stdout",
          "text": [
            "[[0, 0], [0, 0], [0, 0]]\n"
          ]
        }
      ]
    },
    {
      "cell_type": "code",
      "source": [
        "a=[3,1,3,2,5]\n",
        "b=[]\n",
        "\n",
        "for i in a:\n",
        "  line=[]\n",
        "  for j in range(i):\n",
        "    line.append(0)\n",
        "  b.append(line)\n",
        "print(b)"
      ],
      "metadata": {
        "colab": {
          "base_uri": "https://localhost:8080/"
        },
        "id": "BRbAwpZbM8Zo",
        "outputId": "bc372fc5-ccd8-42a9-d5cd-a8545393b436"
      },
      "execution_count": 7,
      "outputs": [
        {
          "output_type": "stream",
          "name": "stdout",
          "text": [
            "[[0, 0, 0], [0], [0, 0, 0], [0, 0], [0, 0, 0, 0, 0]]\n"
          ]
        }
      ]
    },
    {
      "cell_type": "code",
      "source": [
        "a = [[0] * i for i in [3, 1, 3, 2, 5]]\n",
        "print(a)"
      ],
      "metadata": {
        "colab": {
          "base_uri": "https://localhost:8080/"
        },
        "id": "8lKt67H9M8XR",
        "outputId": "7a0cc666-4367-4631-9db0-178f8b0b264e"
      },
      "execution_count": 8,
      "outputs": [
        {
          "output_type": "stream",
          "name": "stdout",
          "text": [
            "[[0, 0, 0], [0], [0, 0, 0], [0, 0], [0, 0, 0, 0, 0]]\n"
          ]
        }
      ]
    },
    {
      "cell_type": "code",
      "source": [
        "a = [[10, 20], [30, 40]]\n",
        "b = a\n",
        "b[0][0] = 500\n",
        "print(a)\n",
        "print(b)"
      ],
      "metadata": {
        "colab": {
          "base_uri": "https://localhost:8080/"
        },
        "id": "osEJVVspM8U9",
        "outputId": "2cc6d188-cc56-4e7e-f3b3-6baf773a8e85"
      },
      "execution_count": 9,
      "outputs": [
        {
          "output_type": "stream",
          "name": "stdout",
          "text": [
            "[[500, 20], [30, 40]]\n",
            "[[500, 20], [30, 40]]\n"
          ]
        }
      ]
    },
    {
      "cell_type": "code",
      "source": [
        "a = [[10, 20], [30, 40]]\n",
        "b = a.copy()\n",
        "b[0][0] = 500\n",
        "print(a)\n",
        "print(b)"
      ],
      "metadata": {
        "colab": {
          "base_uri": "https://localhost:8080/"
        },
        "id": "oxtDMj6AM8Sv",
        "outputId": "71f0a9f3-92a8-4961-c10b-271dc39561ff"
      },
      "execution_count": 10,
      "outputs": [
        {
          "output_type": "stream",
          "name": "stdout",
          "text": [
            "[[500, 20], [30, 40]]\n",
            "[[500, 20], [30, 40]]\n"
          ]
        }
      ]
    },
    {
      "cell_type": "code",
      "source": [
        "a = [[10, 20], [30, 40]]\n",
        "import copy\n",
        "b = copy.deepcopy(a)\n",
        "b[0][0] = 500\n",
        "print(a)\n",
        "print(b)"
      ],
      "metadata": {
        "colab": {
          "base_uri": "https://localhost:8080/"
        },
        "id": "rXO1DfVs0fn5",
        "outputId": "4f53eef2-7b66-4fa2-b6d9-afc1462c5b0d"
      },
      "execution_count": 11,
      "outputs": [
        {
          "output_type": "stream",
          "name": "stdout",
          "text": [
            "[[10, 20], [30, 40]]\n",
            "[[500, 20], [30, 40]]\n"
          ]
        }
      ]
    },
    {
      "cell_type": "code",
      "source": [
        "a = [[10, 20], [30, 40], [50, 60]]\n",
        " \n",
        "i = 0\n",
        "while i < len(a):\n",
        "    j = 0\n",
        "    while j < len(a[i]):\n",
        "      print(a[i][j], end=' ')\n",
        "      j += 1\n",
        "    print()\n",
        "    i+= 1"
      ],
      "metadata": {
        "colab": {
          "base_uri": "https://localhost:8080/"
        },
        "id": "b-1CJVo0Tjiu",
        "outputId": "eb879065-3d1d-401d-a155-ee0aeb4748fa"
      },
      "execution_count": 12,
      "outputs": [
        {
          "output_type": "stream",
          "name": "stdout",
          "text": [
            "10 20 \n",
            "30 40 \n",
            "50 60 \n"
          ]
        }
      ]
    }
  ]
}