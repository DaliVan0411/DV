{
  "nbformat": 4,
  "nbformat_minor": 0,
  "metadata": {
    "colab": {
      "name": "12",
      "provenance": [],
      "collapsed_sections": [],
      "authorship_tag": "ABX9TyMuQW86pIzPTmT0hzdowWem",
      "include_colab_link": true
    },
    "kernelspec": {
      "name": "python3",
      "display_name": "Python 3"
    },
    "language_info": {
      "name": "python"
    }
  },
  "cells": [
    {
      "cell_type": "markdown",
      "metadata": {
        "id": "view-in-github",
        "colab_type": "text"
      },
      "source": [
        "<a href=\"https://colab.research.google.com/github/DaliVan0411/DV/blob/main/12.ipynb\" target=\"_parent\"><img src=\"https://colab.research.google.com/assets/colab-badge.svg\" alt=\"Open In Colab\"/></a>"
      ]
    },
    {
      "cell_type": "code",
      "execution_count": null,
      "metadata": {
        "colab": {
          "base_uri": "https://localhost:8080/"
        },
        "id": "FWLk1A26PAs6",
        "outputId": "29b7d553-1976-4290-ec1a-63608635d83e"
      },
      "outputs": [
        {
          "output_type": "stream",
          "name": "stdout",
          "text": [
            "{'health': 490, 'mana': 334, 'melee': 550, 'armor': 18.72}\n"
          ]
        }
      ],
      "source": [
        "lux = {'health': 490, 'mana': 334, 'melee': 550, 'armor': 18.72}\n",
        "print(lux)"
      ]
    },
    {
      "cell_type": "code",
      "source": [
        "x = {100: 'hundred', False: 0, 3.5: [3.5, 3.5]}\n",
        "print(x)"
      ],
      "metadata": {
        "colab": {
          "base_uri": "https://localhost:8080/"
        },
        "id": "gCG9k772SLdx",
        "outputId": "0a63a8a6-0cf3-402b-bb40-709426401e2f"
      },
      "execution_count": null,
      "outputs": [
        {
          "output_type": "stream",
          "name": "stdout",
          "text": [
            "{100: 'hundred', False: 0, 3.5: [3.5, 3.5]}\n"
          ]
        }
      ]
    },
    {
      "cell_type": "code",
      "source": [
        "x={}\n",
        "y=dict()\n",
        "print(x,y)"
      ],
      "metadata": {
        "colab": {
          "base_uri": "https://localhost:8080/"
        },
        "id": "UDTEwkamSLaR",
        "outputId": "2fa692e0-f776-439b-8502-dff12a83801b"
      },
      "execution_count": null,
      "outputs": [
        {
          "output_type": "stream",
          "name": "stdout",
          "text": [
            "{} {}\n"
          ]
        }
      ]
    },
    {
      "cell_type": "code",
      "source": [
        "lux1 = dict(health=490, mana=334, melee=550, armor=18.72)\n",
        "print(lux1)"
      ],
      "metadata": {
        "id": "iCQN5ocFSLXf",
        "colab": {
          "base_uri": "https://localhost:8080/"
        },
        "outputId": "b5134862-3df8-42f3-caa0-240ec8a1f84c"
      },
      "execution_count": 1,
      "outputs": [
        {
          "output_type": "stream",
          "name": "stdout",
          "text": [
            "{'health': 490, 'mana': 334, 'melee': 550, 'armor': 18.72}\n"
          ]
        }
      ]
    },
    {
      "cell_type": "code",
      "source": [
        "lux2 = dict(zip(['health', 'mana', 'melee', 'armor'], [490, 334, 550, 18.72]))\n",
        "print(lux2)"
      ],
      "metadata": {
        "id": "wkLVK5nuSLVV",
        "colab": {
          "base_uri": "https://localhost:8080/"
        },
        "outputId": "548df0a8-563b-424e-ee64-caf85773f7fe"
      },
      "execution_count": 2,
      "outputs": [
        {
          "output_type": "stream",
          "name": "stdout",
          "text": [
            "{'health': 490, 'mana': 334, 'melee': 550, 'armor': 18.72}\n"
          ]
        }
      ]
    },
    {
      "cell_type": "code",
      "source": [
        "lux3 = dict([('health', 490), ('mana', 334), ('melee', 550), ('armor', 18.72)])\n",
        "print(lux3)"
      ],
      "metadata": {
        "id": "1fP3BxGNSLSr",
        "colab": {
          "base_uri": "https://localhost:8080/"
        },
        "outputId": "d104f16d-040e-4b9c-fa7d-75bdd7caf41a"
      },
      "execution_count": 3,
      "outputs": [
        {
          "output_type": "stream",
          "name": "stdout",
          "text": [
            "{'health': 490, 'mana': 334, 'melee': 550, 'armor': 18.72}\n"
          ]
        }
      ]
    },
    {
      "cell_type": "code",
      "source": [
        "lux4 = dict({'health': 490, 'mana': 334, 'melee': 550, 'armor': 18.72})\n",
        "print(lux4)"
      ],
      "metadata": {
        "colab": {
          "base_uri": "https://localhost:8080/"
        },
        "id": "Pay37n0NwDtV",
        "outputId": "d9610df5-b02e-44f2-b51e-4b9a0f2e0e09"
      },
      "execution_count": 4,
      "outputs": [
        {
          "output_type": "stream",
          "name": "stdout",
          "text": [
            "{'health': 490, 'mana': 334, 'melee': 550, 'armor': 18.72}\n"
          ]
        }
      ]
    },
    {
      "cell_type": "code",
      "source": [
        "lux = {'health': 490, 'mana': 334, 'melee': 550, 'armor': 18.72}\n",
        "print(lux['health'])"
      ],
      "metadata": {
        "colab": {
          "base_uri": "https://localhost:8080/"
        },
        "id": "NmG4PLZjwDrT",
        "outputId": "73d4a637-8b15-439b-ef0e-654c87bbda5a"
      },
      "execution_count": 5,
      "outputs": [
        {
          "output_type": "stream",
          "name": "stdout",
          "text": [
            "490\n"
          ]
        }
      ]
    },
    {
      "cell_type": "code",
      "source": [
        "lux = {'health': 490, 'mana': 334, 'melee': 550, 'armor': 18.72}\n",
        "lux['health'] = 2037\n",
        "lux['mana'] = 1184\n",
        "lux['mana_regen'] = 3.28\n",
        "print(lux)"
      ],
      "metadata": {
        "colab": {
          "base_uri": "https://localhost:8080/"
        },
        "id": "0fD2lxx0wDpi",
        "outputId": "da206bfe-af80-450f-c9d6-eb48fe0cbee5"
      },
      "execution_count": 7,
      "outputs": [
        {
          "output_type": "stream",
          "name": "stdout",
          "text": [
            "{'health': 2037, 'mana': 1184, 'melee': 550, 'armor': 18.72, 'mana_regen': 3.28}\n"
          ]
        }
      ]
    },
    {
      "cell_type": "code",
      "source": [
        "lux = {'health': 490, 'mana': 334, 'melee': 550, 'armor': 18.72}\n",
        "print('health' in lux)\n",
        "print('attack_speed' in lux)\n",
        "print('attack_speed' not in lux)\n",
        "print('health' not in lux)"
      ],
      "metadata": {
        "colab": {
          "base_uri": "https://localhost:8080/"
        },
        "id": "OavQ9igowDnl",
        "outputId": "53fe6a25-b823-45d9-a73b-87558b1b05b7"
      },
      "execution_count": 10,
      "outputs": [
        {
          "output_type": "stream",
          "name": "stdout",
          "text": [
            "True\n",
            "False\n",
            "True\n",
            "False\n"
          ]
        }
      ]
    },
    {
      "cell_type": "code",
      "source": [
        "lux = {'health': 490, 'mana': 334, 'melee': 550, 'armor': 18.72}\n",
        "print(len(lux))\n",
        "print(len({'health': 490, 'mana': 334, 'melee': 550, 'armor': 18.72}))"
      ],
      "metadata": {
        "colab": {
          "base_uri": "https://localhost:8080/"
        },
        "id": "MIlSdxrowDlM",
        "outputId": "2c924556-fbc6-480e-e790-b7ef1ff5ee8a"
      },
      "execution_count": 12,
      "outputs": [
        {
          "output_type": "stream",
          "name": "stdout",
          "text": [
            "4\n",
            "4\n"
          ]
        }
      ]
    },
    {
      "cell_type": "code",
      "source": [
        "a=input().split()\n",
        "b=map(float,  (input().split()))\n",
        "c=dict(zip(a,b))\n",
        "print(c)"
      ],
      "metadata": {
        "id": "0O_FORC2y8Fr"
      },
      "execution_count": null,
      "outputs": []
    },
    {
      "cell_type": "code",
      "source": [
        ""
      ],
      "metadata": {
        "id": "XMooLGuPy8Dh"
      },
      "execution_count": null,
      "outputs": []
    }
  ]
}