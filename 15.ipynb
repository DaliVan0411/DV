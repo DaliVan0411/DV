{
  "nbformat": 4,
  "nbformat_minor": 0,
  "metadata": {
    "colab": {
      "name": "15",
      "provenance": [],
      "collapsed_sections": [],
      "authorship_tag": "ABX9TyPVDz0FFyyPxRbWfh7WSoq9",
      "include_colab_link": true
    },
    "kernelspec": {
      "name": "python3",
      "display_name": "Python 3"
    },
    "language_info": {
      "name": "python"
    }
  },
  "cells": [
    {
      "cell_type": "markdown",
      "metadata": {
        "id": "view-in-github",
        "colab_type": "text"
      },
      "source": [
        "<a href=\"https://colab.research.google.com/github/DaliVan0411/DV/blob/main/15.ipynb\" target=\"_parent\"><img src=\"https://colab.research.google.com/assets/colab-badge.svg\" alt=\"Open In Colab\"/></a>"
      ]
    },
    {
      "cell_type": "code",
      "execution_count": 1,
      "metadata": {
        "colab": {
          "base_uri": "https://localhost:8080/"
        },
        "id": "gW9rDZfRwEuY",
        "outputId": "4da29387-2244-4991-dc07-650ac1e9303c"
      },
      "outputs": [
        {
          "output_type": "stream",
          "name": "stdout",
          "text": [
            "20입니다\n"
          ]
        }
      ],
      "source": [
        "x=20\n",
        "if x==10:\n",
        "  print('10입니다')\n",
        "elif x==20:\n",
        "  print('20입니다')"
      ]
    },
    {
      "cell_type": "code",
      "source": [
        "x=30\n",
        "if x==10:\n",
        "  print('10입니다')\n",
        "elif x==20:\n",
        "  print('20입니다')\n",
        "else:\n",
        "  print('10도 20도 아닙니다')"
      ],
      "metadata": {
        "colab": {
          "base_uri": "https://localhost:8080/"
        },
        "id": "_qZkeRxJ0d5e",
        "outputId": "b942de11-6787-469d-ecf4-14e6469500d3"
      },
      "execution_count": 2,
      "outputs": [
        {
          "output_type": "stream",
          "name": "stdout",
          "text": [
            "10도 20도 아닙니다\n"
          ]
        }
      ]
    },
    {
      "cell_type": "code",
      "source": [
        "button = int(input())\n",
        "if button == 1:\n",
        "    print('콜라')\n",
        "elif button == 2:\n",
        "    print('사이다')\n",
        "elif button == 3:\n",
        "    print('환타')\n",
        "else:\n",
        "    print('제공하지 않는 메뉴')"
      ],
      "metadata": {
        "colab": {
          "base_uri": "https://localhost:8080/"
        },
        "id": "uVqVsdnu0d3B",
        "outputId": "025ef2ff-056b-42ce-b1c6-6e0fc4a6e24f"
      },
      "execution_count": 3,
      "outputs": [
        {
          "output_type": "stream",
          "name": "stdout",
          "text": [
            "1\n",
            "콜라\n"
          ]
        }
      ]
    },
    {
      "cell_type": "code",
      "source": [
        "age = int(input())\n",
        "balance = 9000\n",
        "if 7<=age<=12:\n",
        "  balance-=650\n",
        "elif 13<=age<=18:\n",
        "  balance-=1050\n",
        "elif age>=19:\n",
        "  balance-=1250\n",
        "print(balance)"
      ],
      "metadata": {
        "colab": {
          "base_uri": "https://localhost:8080/"
        },
        "id": "nyj8PRaV0d1F",
        "outputId": "9fa834ea-fc78-4d2c-8cf5-35600ed9d28c"
      },
      "execution_count": 7,
      "outputs": [
        {
          "output_type": "stream",
          "name": "stdout",
          "text": [
            "12\n",
            "8350\n"
          ]
        }
      ]
    }
  ]
}